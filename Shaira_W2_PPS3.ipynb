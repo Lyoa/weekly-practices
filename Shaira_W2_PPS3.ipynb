{
 "cells": [
  {
   "attachments": {},
   "cell_type": "markdown",
   "metadata": {},
   "source": [
    "# WEEK 2 PRACTICE PROBLEMS - SET 3\n",
    "## Problem No. 1\n",
    "\n",
    "Create a function that can extract terms (based on a given glossary) from a list of valorant voicelines. If a particular voice line does not contain any term in the glossary, print \"No match found.\".\n",
    "### Example Input (1):\n",
    "val_voiceline = [\"Here comes the party\", \"Prepare for hellfire\", \"You want to play? Let's play\"]<br>\n",
    "glossary = [\"par\", \"hell\", \"lay\"]<br>\n",
    "\n",
    "### Example Output (1):\n",
    "Extracted word: party<br>\n",
    "Extracted word: prepare, hellfire<br>\n",
    "Extracted word: play?, play<br>\n",
    "\n",
    "### Example Input (2):\n",
    "val_voiceline = [\"Here comes the party\", \"You will not kill my allies\", \"Prepare for hellfire\", \"You want to play? Let's play\", \"I suggest you move\"]<br>\n",
    "glossary = [\"par\", \"hell\", \"lay\", \"all\"]<br>\n",
    "\n",
    "### Example Output (2):\n",
    "Extracted word: party<br>\n",
    "Extracted word: allies<br>\n",
    "Extracted word: prepare, hellfire<br>\n",
    "Extracted word: play?, play<br>\n",
    "No match found.<br>"
   ]
  },
  {
   "cell_type": "code",
   "execution_count": 1,
   "metadata": {},
   "outputs": [
    {
     "name": "stdout",
     "output_type": "stream",
     "text": [
      "Extracted word: party\n",
      "Extracted word: alliance allies\n",
      "Extracted word: Prepare hellfire\n",
      "Extracted word: play? play\n",
      "No match found.\n"
     ]
    }
   ],
   "source": [
    "#Problem 1\n",
    "def extract_terms(valo_voiceline, glossary):\n",
    "    for voiceline in valo_voiceline:\n",
    "        words = voiceline.split() #.lower \n",
    "        extracted_terms = []\n",
    "        for word in words:\n",
    "            for term in glossary:\n",
    "                if term in word:\n",
    "                    extracted_terms.append(word)\n",
    "        if extracted_terms:\n",
    "            print(\"Extracted word:\", ' '.join(extracted_terms))\n",
    "        else:\n",
    "            print(\"No match found.\")\n",
    "\n",
    "#find() --!= symbols equate\n",
    "\n",
    "# val_voiceline = [\"Here comes the party\", \"Prepare for hellfire\", \"You want to play? Let's play\"]\n",
    "# glossary = [\"par\", \"hell\", \"lay\"]\n",
    "# extract_terms(val_voiceline, glossary)\n",
    "\n",
    "val_voiceline = [\"Here comes the party\", \"You will not alliance kill my allies\", \"Prepare for hellfire\", \"You want to play? Let's play\", \"I suggest you move\"]\n",
    "glossary = [\"par\", \"hell\", \"lay\", \"all\"]\n",
    "extract_terms(val_voiceline, glossary)"
   ]
  },
  {
   "attachments": {},
   "cell_type": "markdown",
   "metadata": {},
   "source": [
    "## Problem No. 2\n",
    "\n",
    "Write a function that accepts an encoded string as a parameter. This string will contain a first name, last name, and an id.\n",
    "\n",
    "Values in the string can be separated by any number of zeros. The id is a numeric value but will contain no zeros. The function should parse the string and return a Python dictionary that contains the first name, last name, and id values.\n",
    "\n",
    "An example input would be “Lexcode000Sakalam0001234”. The function should return the following using that input:\n",
    "\n",
    "{ “first_name”: “Lexcode”, “last_name”: “Sakalam”, “id”: “1234” }"
   ]
  },
  {
   "cell_type": "code",
   "execution_count": 7,
   "metadata": {},
   "outputs": [
    {
     "name": "stdout",
     "output_type": "stream",
     "text": [
      "{'first_name': 'Lexcode', 'last_name': 'Sakalam', 'id': '1234'}\n"
     ]
    }
   ],
   "source": [
    "#Problem 2\n",
    "import re \n",
    "\n",
    "def parse_string(encoded_str):\n",
    "\n",
    "    values = re.split('0+', encoded_str)\n",
    "\n",
    "    first_name = values[0]\n",
    "    last_name = values[1]\n",
    "    id_num = values[2]\n",
    "\n",
    "    return {'first_name': first_name, 'last_name': last_name, 'id': id_num}\n",
    "\n",
    "encoded_str = \"Lexcode000Sakalam0001234\"\n",
    "\n",
    "print(parse_string(encoded_str))"
   ]
  },
  {
   "attachments": {},
   "cell_type": "markdown",
   "metadata": {},
   "source": [
    "## Problem No. 3\n",
    "\n",
    "Create a function that accepts a list of sentences as a parameter and filter any newline characters (e.g., line break, tab, etc.) and other special characters (e.g., @, !, #, etc.). \n",
    "\n",
    "Input = ['This\\nis\\nspartan!', 'A\\nlife\\twithout: purpose\\nis\\tfutile', 'Death! It stares upon as all, and all a man can do is smile back :)']<br>\n",
    "Output = ['This is spartan', 'A life without purpose is futile', 'Death It stares upon as all and all a man can do is smile back']<br>"
   ]
  },
  {
   "cell_type": "code",
   "execution_count": 2,
   "metadata": {},
   "outputs": [
    {
     "name": "stdout",
     "output_type": "stream",
     "text": [
      "['This is spartan', 'A life without purpose is futile', 'Death It stares upon as all and all a man can do is smile back']\n"
     ]
    }
   ],
   "source": [
    "#Problem 3\n",
    "import re\n",
    "\n",
    "def filter_sentences(sentences):\n",
    "    filtered_sentences = []\n",
    "    for sentence in sentences:\n",
    "#pattern = [^a-zA-Z0-9\\s]\n",
    "        sentence = sentence.replace('\\n', ' ')\n",
    "        #specified pattern are replaced by the replace string re.sub()\n",
    "        sentence = re.sub('[^a-zA-Z0-9\\s]', '', sentence)\n",
    "        sentence = re.sub('\\s+', ' ', sentence) \n",
    "        \n",
    "        filtered_sentences.append(sentence.strip())\n",
    "        \n",
    "    return filtered_sentences\n",
    "\n",
    "sentences = ['This\\nis\\nspartan!', 'A\\nlife\\twithout: purpose\\nis\\tfutile', 'Death! It stares upon as all, and all a man can do is smile back :)']\n",
    "filtered_sentences = filter_sentences(sentences)\n",
    "print(filtered_sentences)"
   ]
  },
  {
   "attachments": {},
   "cell_type": "markdown",
   "metadata": {},
   "source": [
    "## Problem No. 4\n",
    "\n",
    "Create a function that can remove different bullet points from a list of sentences using regular expression.\n",
    "\n",
    "\n",
    "### Input\n",
    "sentencesList = [<br>\n",
    "    '*   &emsp; This is a sentence with a bullet point.',<br>\n",
    "    '- &ensp;This is another sentence with a bullet point.',<br>\n",
    "    '+     This is a third sentence with a bullet point.',<br>\n",
    "    'a. This sentence has a letter bullet point.'<br>\n",
    "]<br>\n",
    "### Output \n",
    "['This is a sentence with a bullet point.',<br>\n",
    " 'This is another sentence with a bullet point.',<br>\n",
    " 'This is a third sentence with a bullet point.',<br>\n",
    " 'This sentence has a letter bullet point.']<br>"
   ]
  },
  {
   "cell_type": "code",
   "execution_count": 1,
   "metadata": {},
   "outputs": [
    {
     "name": "stdout",
     "output_type": "stream",
     "text": [
      "['This is a sentence with a bullet point.', 'This is another sentence with a bullet point.', 'This is a third sentence with a bullet point.', 'a. This sentence has a letter bullet point.']\n"
     ]
    }
   ],
   "source": [
    "#Problem 4\n",
    "import re\n",
    "\n",
    "def remove_bullet_points(sentencesList):\n",
    "    pattern = r'^[\\*\\-\\+]\\s*;?\\s*'\n",
    "    result = []\n",
    "    for sentence in sentencesList:\n",
    "        cleaned_sentence = re.sub(pattern, '', sentence).strip()\n",
    "        result.append(cleaned_sentence)\n",
    "    return result\n",
    "\n",
    "sentencesList = [\n",
    "    '*        ; This is a sentence with a bullet point.',\n",
    "    '-      ;This is another sentence with a bullet point.',\n",
    "    '+     This is a third sentence with a bullet point.',\n",
    "    'a. This sentence has a letter bullet point.'\n",
    "]\n",
    "\n",
    "cleaned_sentences = remove_bullet_points(sentencesList)\n",
    "print(cleaned_sentences)"
   ]
  },
  {
   "attachments": {},
   "cell_type": "markdown",
   "metadata": {},
   "source": [
    "## Problem No. 5\n",
    "\n",
    "Create a function that accepts a list of emails as parameter and filters out any invalid format of email using regular expression. The appropriate format of an email is as follow:\n",
    "\n",
    "• Should have exactly one @ symbol<br>\n",
    "• Should have at least one . symbol after @ symbol<br>\n",
    "• Should not contain any spaces<br>\n",
    "• Should not start or end with . symbol or @ symbol<br>\n",
    "\n",
    "\n",
    "### Input\n",
    "emails = ['example.email@domain.com', 'invalid.email.com', 'noatsymbol.com', 'two@@atsymbols.com', '.dot@start.com', 'dot@end@.com.']\n",
    "]<br>\n",
    "### Output \n",
    "validEmails = ['example.email@domain.com']<br>"
   ]
  },
  {
   "cell_type": "code",
   "execution_count": 15,
   "metadata": {},
   "outputs": [
    {
     "name": "stdout",
     "output_type": "stream",
     "text": [
      "validEmails = ['example.email@domain.com', '.dot@start.com']\n"
     ]
    }
   ],
   "source": [
    "#Problem 5\n",
    "import re\n",
    "\n",
    "def filter_emails(emails):\n",
    "\n",
    "    pattern = r'^[a-zA-Z0-9._%+-]+@[a-zA-Z0-9.-]+\\.[a-zA-Z]{2,}$'\n",
    "    valid_format = []\n",
    "    for email in emails:\n",
    "        if re.match(pattern, email):\n",
    "            valid_format.append(email)\n",
    "    return valid_format\n",
    "\n",
    "emails = ['example.email@domain.com', 'invalid.email.com', 'noatsymbol.com', 'two@@atsymbols.com', '.dot@start.com', 'dot@end@.com.']\n",
    "\n",
    "email = (filter_emails(emails))\n",
    "print('validEmails =', filter_emails(emails))"
   ]
  },
  {
   "attachments": {},
   "cell_type": "markdown",
   "metadata": {},
   "source": [
    "## Problem No. 6\n",
    "Name: Michael Jackson<br>\n",
    "Birthday: August 29, 1958 (Birthplace: Gary, Indiana, U.S.)<br>\n",
    "Death: June 25, 2009 (Los Angeles, California) Age 50<br>\n",
    "Nationality: American <br>\n",
    "(Profession Songwriter Entertainer Dancer Philanthropist)<br>\n",
    "Dubbed the King of Pop<br>\n",
    "Education: Montclair College Prep School<br>\n",
    "The eighth child of the Jackson family, Jackson made his public debut in 1964 with his older brothers Jackie, Tito, Jermaine, and Marlon as a member of the Jackson 5 (later known as the Jacksons). Jackson began his solo career in 1971 while at Motown Records. He became a solo star with his 1979 album Off the Wall.\n",
    "\n",
    "Given the text above, create a function that will extract necessary information (using regular expression) about the person's Name, Birthday, Birthplace, date of Death, Place of Death, Age, Nationality, Profession(s), Education, and what the person is known for world-wide. The aforementioned information should be contained inside a dictionary with each detail serving as the key.\n",
    "\n",
    "### Output:\n",
    "\n",
    "{ 'Name': Michael Jackson',<br>\n",
    "  'Birthday': August 29, 1958',<br>\n",
    "  'Birthplace': 'Gary, Indiana, U.S.',<br>\n",
    "  'Died': 'June 25, 2009',<br>\n",
    "  'Place of Death': 'Los Angeles, California',<br>\n",
    "  'Age': '50'<br>\n",
    "  'Nationality': 'American',<br>\n",
    "  'Profession(s)': 'Songwriter Entertainer Dancer Philanthropist',<br>\n",
    "  'Education': 'Montclair College Prep School',<br>\n",
    "  'Known as': 'King of Pop'}<br>"
   ]
  },
  {
   "cell_type": "code",
   "execution_count": 1,
   "metadata": {},
   "outputs": [
    {
     "data": {
      "text/plain": [
       "{'Name': 'Michael Jackson',\n",
       " 'Birthday': 'August 29, 1958 (Birthplace: Gary, Indiana, U.S.)',\n",
       " 'Birthplace': 'Gary, Indiana, U.S.',\n",
       " 'Died': 'June 25, 2009 (Los Angeles, California) Age 50',\n",
       " 'Place of Death': 'Los Angeles, California',\n",
       " 'Age': '50',\n",
       " 'Nationality': 'American',\n",
       " 'Profession(s)': 'Songwriter Entertainer Dancer Philanthropist)',\n",
       " 'Education': 'Montclair College Prep School',\n",
       " 'Known as': 'King of Pop'}"
      ]
     },
     "execution_count": 1,
     "metadata": {},
     "output_type": "execute_result"
    }
   ],
   "source": [
    "#Problem 5\n",
    "#given\n",
    "text = '''\n",
    "Name: Michael Jackson\n",
    "Birthday: August 29, 1958 (Birthplace: Gary, Indiana, U.S.)\n",
    "Death: June 25, 2009 (Los Angeles, California) Age 50\n",
    "Nationality: American\n",
    "(Profession Songwriter Entertainer Dancer Philanthropist)\n",
    "Dubbed the King of Pop\n",
    "Education: Montclair College Prep School\n",
    "The eighth child of the Jackson family, Jackson made his public debut in 1964\n",
    "with his older brothers Jackie, Tito, Jermaine, and Marlon as a member of the Jackson 5\n",
    "(later known as the Jacksons). Jackson began his solo career in 1971 while at Motown Records.\n",
    "He became a solo star with his 1979 album Off the Wall.\n",
    "'''\n",
    "\n",
    "import re\n",
    "\n",
    "def extract_info(text):\n",
    "    name = re.findall(r'Name: (.+)', text)[0]\n",
    "    birthday = re.findall(r'Birthday: (.+)\\s', text)[0]\n",
    "    birthplace = re.findall(r'Birthplace: (.+?)\\)', text, flags=re.DOTALL)[0].strip() #re.DOTALL flag, paired with re.findall\n",
    "    died = re.findall(r'Death: (.+)\\n', text)[0]\n",
    "    place_of_death = re.findall(r'\\((.+)\\)', died)[0]\n",
    "    age = re.findall(r'Age (\\d+)', text)[0]\n",
    "    nationality = re.findall(r'Nationality: (.+)', text)[0]\n",
    "    professions = re.findall(r'Profession(.+)', text)[0].strip()\n",
    "    education = re.findall(r'Education: (.+)', text)[0]\n",
    "    known_as = re.findall(r'Dubbed the (.+)', text)[0].strip()\n",
    "    \n",
    "    return {\n",
    "        'Name': name,\n",
    "        'Birthday': birthday,\n",
    "        'Birthplace': birthplace,\n",
    "        'Died': died,\n",
    "        'Place of Death': place_of_death,\n",
    "        'Age': age,\n",
    "        'Nationality': nationality,\n",
    "        'Profession(s)': professions,\n",
    "        'Education': education,\n",
    "        'Known as': known_as\n",
    "    }\n",
    "\n",
    "extract_info(text)"
   ]
  }
 ],
 "metadata": {
  "kernelspec": {
   "display_name": "base",
   "language": "python",
   "name": "python3"
  },
  "language_info": {
   "codemirror_mode": {
    "name": "ipython",
    "version": 3
   },
   "file_extension": ".py",
   "mimetype": "text/x-python",
   "name": "python",
   "nbconvert_exporter": "python",
   "pygments_lexer": "ipython3",
   "version": "3.9.13"
  },
  "orig_nbformat": 4,
  "vscode": {
   "interpreter": {
    "hash": "94d783fc23adeb652cc83383c6aa5d37e9c58dca78143796a69fc22cf725d0d5"
   }
  }
 },
 "nbformat": 4,
 "nbformat_minor": 2
}
