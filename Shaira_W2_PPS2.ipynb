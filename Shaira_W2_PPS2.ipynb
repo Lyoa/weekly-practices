{
 "cells": [
  {
   "attachments": {},
   "cell_type": "markdown",
   "metadata": {},
   "source": [
    "# WEEK 2 PRACTICE PROBLEMS - SET 2\n",
    "## Problem No. 1\n",
    "\n",
    "Write a function that takes a list of numbers as input and returns a list of only the odd numbers in the input list. If the input list is empty or contains no odd numbers, the function should raise an exception with the message \"No odd numbers found\".\n",
    "### Example Input (1):\n",
    "input_list = [2, 3, 5, 4, 8, 9, 6]\n",
    "\n",
    "### Example Output (1):\n",
    "Odd numbers in the input list: [3, 5, 9]\n",
    "\n",
    "### Example Input (2):\n",
    "input_list = []\n",
    "\n",
    "### Example Output (2):\n",
    "No odd numbers found"
   ]
  },
  {
   "cell_type": "code",
   "execution_count": 6,
   "metadata": {},
   "outputs": [
    {
     "data": {
      "text/plain": [
       "'Odd numbers in the input list: [3, 5, 9]'"
      ]
     },
     "execution_count": 6,
     "metadata": {},
     "output_type": "execute_result"
    }
   ],
   "source": [
    "#Problem 1  \n",
    "\n",
    "# numbers = []\n",
    "numbers = [2, 3, 5, 4, 8, 9, 6]\n",
    "\n",
    "odd = []\n",
    "\n",
    "def odd_numbers():\n",
    "    if numbers == []:\n",
    "        print('No odd numbers found')\n",
    "    else:\n",
    "        for n in numbers:\n",
    "            if (n % 2) == 1:\n",
    "                odd.append(n)\n",
    "\n",
    "        return 'Odd numbers in the input list: ' + str(odd)\n",
    "\n",
    "odd_numbers()"
   ]
  },
  {
   "attachments": {},
   "cell_type": "markdown",
   "metadata": {},
   "source": [
    "## Problem No. 2\n",
    "\n",
    "You are given a sentence and a list of words. You need to create a function mask_words(sentence, words) that masks the given words in the sentence with *. The words to be masked are given in the list words.\n",
    "\n",
    "The function should return the sentence after masking the words.\n",
    "\n",
    "INPUT: <br>\n",
    "sentence (string) - A sentence containing words to be masked.\n",
    "words (list) - A list of words to be masked.\n",
    "\n",
    "OUTPUT: <br>\n",
    "The sentence after masking the words.\n",
    "\n",
    "### EXAMPLE INPUT:\n",
    "sentence = \"The quick brown fox jumps over the lazy dog\"<br>\n",
    "words = [\"quick\", \"jumps\", \"lazy\"]<br>\n",
    "\n",
    "result = mask_words(sentence, words)<br>\n",
    "print(result)<br>\n",
    "\n",
    "### EXAMPLE OUTPUT:\n",
    "The ***** brown fox ***** over the ***** dog"
   ]
  },
  {
   "cell_type": "code",
   "execution_count": 7,
   "metadata": {},
   "outputs": [
    {
     "name": "stdout",
     "output_type": "stream",
     "text": [
      "The ***** brown fox ***** over the **** dog\n"
     ]
    }
   ],
   "source": [
    "#Problem 2\n",
    "\n",
    "def mask_words(sentence, words):\n",
    "    for word in words:\n",
    "        sentence = sentence.replace(word, '*' * len(word))\n",
    "    return sentence\n",
    "\n",
    "sentence = \"The quick brown fox jumps over the lazy dog\"\n",
    "words = [\"quick\", \"jumps\", \"lazy\"]\n",
    "\n",
    "result = mask_words(sentence, words)\n",
    "print(result)\n"
   ]
  },
  {
   "attachments": {},
   "cell_type": "markdown",
   "metadata": {},
   "source": [
    "## Problem No. 3\n",
    "You are given a list of dictionaries representing students and their grades in different subjects. Each dictionary has the following keys: \"name\" (string), \"math\" (float), \"science\" (float), and \"history\" (float). Write a function that takes in the list of dictionaries and returns a dictionary containing the average grade for each subject. The output dictionary should have the following keys: \"math\", \"science\", and \"history\", with each key's corresponding value being the average grade for that subject.\n",
    "\n",
    "### INPUT: \n",
    "students = [<br>\n",
    "    {\"name\": \"Alice\", \"math\": 85.0, \"science\": 92.0, \"history\": 88.0},<br>\n",
    "    {\"name\": \"Bob\", \"math\": 70.0, \"science\": 88.0, \"history\": 79.0},<br>\n",
    "    {\"name\": \"Charlie\", \"math\": 92.0, \"science\": 85.0, \"history\": 90.0}<br>\n",
    "]<br>\n",
    "\n",
    "### OUTPUT:\n",
    "averages = calculate_average_grades(students)<br>\n",
    "print(averages)<br>\n",
    "Output: {'math': 82.33, 'science': 88.33, 'history': 85.67}<br>\n"
   ]
  },
  {
   "cell_type": "code",
   "execution_count": 9,
   "metadata": {},
   "outputs": [
    {
     "name": "stdout",
     "output_type": "stream",
     "text": [
      "{'math': 82.33, 'science': 88.33, 'history': 85.67}\n"
     ]
    }
   ],
   "source": [
    "def calculate_average_grades(students):\n",
    "    math_sum = 0\n",
    "    science_sum = 0\n",
    "    history_sum = 0\n",
    "    \n",
    "    for student in students:\n",
    "        math_sum += student['math']\n",
    "        science_sum += student['science']\n",
    "        history_sum += student['history']\n",
    "    \n",
    "        num_students = len(students)\n",
    "        math_avg = round(math_sum / num_students, 2)\n",
    "        science_avg = round(science_sum / num_students, 2)\n",
    "        history_avg = round(history_sum / num_students, 2)\n",
    "    \n",
    "    averages = {\n",
    "        'math': math_avg,\n",
    "        'science': science_avg,\n",
    "        'history': history_avg\n",
    "    }\n",
    "    \n",
    "    return averages\n",
    "\n",
    "students = [\n",
    "    {\"name\": \"Alice\", \"math\": 85.0, \"science\": 92.0, \"history\": 88.0},\n",
    "    {\"name\": \"Bob\", \"math\": 70.0, \"science\": 88.0, \"history\": 79.0},\n",
    "    {\"name\": \"Charlie\", \"math\": 92.0, \"science\": 85.0, \"history\": 90.0}\n",
    "]\n",
    "\n",
    "averages = calculate_average_grades(students)\n",
    "print(averages)\n"
   ]
  },
  {
   "attachments": {},
   "cell_type": "markdown",
   "metadata": {},
   "source": [
    "## Problem No. 4\n",
    "Consider a two-dimensional array of integers arr. You are to write a function that takes this array as input, and returns the sum of all the elements in the array.\n",
    "\n",
    "### Note:\n",
    "You should not use import and your function should work for arrays of any size.\n",
    "\n",
    "\n",
    "### EXAMPLE 1:\n",
    "INPUT: <br>\n",
    "arr = [<br>\n",
    "    [1, 2, 3],<br>\n",
    "    [4, 5, 6],<br>\n",
    "    [7, 8, 9]<br>\n",
    "]<br>\n",
    "\n",
    "OUTPUT: 45<br>\n",
    "\n",
    "### EXAMPLE 2:\n",
    "INPUT: <br>\n",
    "arr = [<br>\n",
    "    [1, 2, 3, 12, 11],<br>\n",
    "    [4, 5, 6],<br>\n",
    "    [7, 8, 9]<br>\n",
    "]<br>\n",
    "\n",
    "OUTPUT: 68<br>\n",
    "\n"
   ]
  },
  {
   "cell_type": "code",
   "execution_count": 11,
   "metadata": {},
   "outputs": [
    {
     "name": "stdout",
     "output_type": "stream",
     "text": [
      "45\n"
     ]
    }
   ],
   "source": [
    "def sum_arr(arr):\n",
    "    total = 0\n",
    "    for row in arr: #for i in range(len(array))\n",
    "        for element in row: #for j in range(len(array(i)))\n",
    "            total += element #sum += \n",
    "    return total\n",
    "\n",
    "#example no.1\n",
    "arr = [\n",
    "    [1, 2, 3],\n",
    "    [4, 5, 6],\n",
    "    [7, 8, 9]\n",
    "]\n",
    "print(sum_arr(arr))\n",
    "\n",
    "#example no.2\n",
    "# arr = [\n",
    "#     [1, 2, 3, 12, 11],\n",
    "#     [4, 5, 6],\n",
    "#     [7, 8, 9]\n",
    "# ]\n",
    "\n",
    "# print(sum_arr(arr))"
   ]
  },
  {
   "attachments": {},
   "cell_type": "markdown",
   "metadata": {},
   "source": [
    "## Problem No. 5\n",
    "You are given a list of integers, which may be nested arbitrarily deep. Your task is to write a recursive function that flattens the list, removing any nested lists, and returns a new flattened list. <br>\n",
    "\n",
    "### For example, given the following list: <br>\n",
    "[1, 2, [3, 4, [5]], 6, [7, 8]]<br>\n",
    "\n",
    "### Your function should return the following flattened list: <br>\n",
    "[1, 2, 3, 4, 5, 6, 7, 8]<br>"
   ]
  },
  {
   "cell_type": "code",
   "execution_count": 14,
   "metadata": {},
   "outputs": [
    {
     "name": "stdout",
     "output_type": "stream",
     "text": [
      "[1, 2, 3, 4, 5, 6, 7, 8]\n"
     ]
    }
   ],
   "source": [
    "def flatten_list(l):\n",
    "    flat_list = [] #empty list\n",
    "    for i in l:\n",
    "        if type(i) == list:\n",
    "            flat_list += flatten_list(i)\n",
    "        else:\n",
    "            flat_list.append(i)\n",
    "    return flat_list\n",
    "\n",
    "l = [1, 2, [3, 4, [5]], 6, [7, 8]]\n",
    "flattened_list = flatten_list(l)\n",
    "print(flattened_list)"
   ]
  }
 ],
 "metadata": {
  "kernelspec": {
   "display_name": "base",
   "language": "python",
   "name": "python3"
  },
  "language_info": {
   "codemirror_mode": {
    "name": "ipython",
    "version": 3
   },
   "file_extension": ".py",
   "mimetype": "text/x-python",
   "name": "python",
   "nbconvert_exporter": "python",
   "pygments_lexer": "ipython3",
   "version": "3.9.13"
  },
  "orig_nbformat": 4,
  "vscode": {
   "interpreter": {
    "hash": "94d783fc23adeb652cc83383c6aa5d37e9c58dca78143796a69fc22cf725d0d5"
   }
  }
 },
 "nbformat": 4,
 "nbformat_minor": 2
}
