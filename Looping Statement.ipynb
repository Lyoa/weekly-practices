{
 "cells": [
  {
   "cell_type": "code",
   "execution_count": 1,
   "metadata": {},
   "outputs": [
    {
     "name": "stdout",
     "output_type": "stream",
     "text": [
      "1\n",
      "22\n",
      "333\n",
      "4444\n",
      "55555\n",
      "666666\n"
     ]
    }
   ],
   "source": [
    "#Problem 1\n",
    "for i in range(7):\n",
    "    print(str(i) * i)"
   ]
  },
  {
   "cell_type": "code",
   "execution_count": 3,
   "metadata": {},
   "outputs": [
    {
     "name": "stdout",
     "output_type": "stream",
     "text": [
      "1\n",
      "22\n",
      "333\n",
      "4444\n",
      "55555\n",
      "666666\n"
     ]
    }
   ],
   "source": [
    "#Problem 2\n",
    "for i in range (1, 7):\n",
    "    for j in range(i, i+1):\n",
    "        print(str(i) * i)"
   ]
  },
  {
   "cell_type": "code",
   "execution_count": 4,
   "metadata": {},
   "outputs": [
    {
     "name": "stdout",
     "output_type": "stream",
     "text": [
      "55555555555\n",
      "54444444445\n",
      "54333333345\n",
      "54322222345\n",
      "54321112345\n",
      "54321012345\n",
      "54321112345\n",
      "54322222345\n",
      "54333333345\n",
      "54444444445\n",
      "55555555555\n"
     ]
    }
   ],
   "source": [
    "#Problem 3\n",
    "n = int(input(\"Insert number of iteration(s): \"))\n",
    "\n",
    "for num in range(n * 2 + 1): \n",
    "    for nums in range(n * 2 + 1):\n",
    "        dLeft = nums\n",
    "        dRight = n * 2 - nums\n",
    "        dTop = num\n",
    "        dBottom = n * 2 - num\n",
    "        x = n - min(dLeft, dRight, dTop, dBottom)\n",
    "        \n",
    "        print(x, end='')\n",
    "    print('')"
   ]
  }
 ],
 "metadata": {
  "kernelspec": {
   "display_name": "test_env",
   "language": "python",
   "name": "python3"
  },
  "language_info": {
   "codemirror_mode": {
    "name": "ipython",
    "version": 3
   },
   "file_extension": ".py",
   "mimetype": "text/x-python",
   "name": "python",
   "nbconvert_exporter": "python",
   "pygments_lexer": "ipython3",
   "version": "3.8.0"
  },
  "orig_nbformat": 4,
  "vscode": {
   "interpreter": {
    "hash": "30eda9e68cf5b3239db157d268280b21de156a63948c2c3d656edef61e56cd04"
   }
  }
 },
 "nbformat": 4,
 "nbformat_minor": 2
}
