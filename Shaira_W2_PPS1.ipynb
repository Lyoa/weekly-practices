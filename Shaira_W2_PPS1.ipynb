{
 "cells": [
  {
   "attachments": {},
   "cell_type": "markdown",
   "metadata": {},
   "source": [
    "# WEEK 2 PRACTICE PROBLEMS - SET 1\n",
    "## Problem No. 1\n",
    "\n",
    "Write a function called **calculate_student_average** that takes in a list of student dictionaries, where each dictionary contains the student's name and their list of test scores. The function should calculate the average score for each student and return a dictionary where the key is the student's name and the value is their average score. If a student has no test scores, their average score should be 0.\n",
    "\n",
    "### Example Input:\n",
    "students = [\n",
    "    {\"name\": \"Alice\", \"scores\": [85, 90, 92]},\n",
    "    {\"name\": \"Bob\", \"scores\": [72, 68, 74]},\n",
    "    {\"name\": \"Charlie\", \"scores\": []}\n",
    "]\n",
    "\n",
    "### Example Output:\n",
    "{\"Alice\": 89.0, \"Bob\": 71.33333333333333, \"Charlie\": 0}\n",
    "\n"
   ]
  },
  {
   "cell_type": "code",
   "execution_count": 3,
   "metadata": {},
   "outputs": [
    {
     "name": "stdout",
     "output_type": "stream",
     "text": [
      "{'Alice': 89.0, 'Bob': 71.33333333333333, 'Charlie': 0}\n"
     ]
    }
   ],
   "source": [
    "students = [\n",
    "    {\"name\": \"Alice\", \"scores\": [85, 90, 92]},\n",
    "    {\"name\": \"Bob\", \"scores\": [72, 68, 74]},\n",
    "    {\"name\": \"Charlie\", \"scores\": []}\n",
    "]\n",
    "\n",
    "def calculate_student_average(students):\n",
    "    answer = {}\n",
    "    for student in students:\n",
    "        name = student['name']\n",
    "        scores = student['scores']\n",
    "        if len(scores) > 0:\n",
    "            average = sum(scores) / len(scores)\n",
    "        else:\n",
    "            average = 0\n",
    "        answer[name] = average\n",
    "    return answer\n",
    "\n",
    "calculate_student_average(students)"
   ]
  },
  {
   "attachments": {},
   "cell_type": "markdown",
   "metadata": {},
   "source": [
    "## Problem No. 2\n",
    "Using recursive function, the program should produce the same example output.\n",
    "### Example\n",
    "Input: 5<br>\n",
    "Output:<br>\n",
    "1<br>\n",
    "22<br>\n",
    "333<br>\n",
    "4444<br>\n",
    "55555<br>\n",
    "\n",
    "Input: 6<br>\n",
    "Output:<br>\n",
    "1<br>\n",
    "22<br>\n",
    "333<br>\n",
    "4444<br>\n",
    "55555<br>\n",
    "666666<br>"
   ]
  },
  {
   "cell_type": "code",
   "execution_count": 6,
   "metadata": {},
   "outputs": [
    {
     "name": "stdout",
     "output_type": "stream",
     "text": [
      "1\n",
      "22\n",
      "333\n",
      "4444\n",
      "55555\n"
     ]
    }
   ],
   "source": [
    "def recursive(n):\n",
    "\n",
    "    if n == 1:\n",
    "        print(1)\n",
    "    else:\n",
    "        recursive(n-1)\n",
    "        print(str(n) * n)\n",
    "recursive(5)"
   ]
  },
  {
   "attachments": {},
   "cell_type": "markdown",
   "metadata": {},
   "source": [
    "## Problem No. 3\n",
    "Write a function that takes two lists of integers as inputs, and returns the intersection of the two lists. The intersection of two lists is a list of elements that are common to both lists.\n",
    "\n",
    "### Example\n",
    "Input:<br>\n",
    "list1 = [1, 2, 3, 4, 5, 6]<br>\n",
    "list2 = [3, 4, 5, 6, 7, 8, 9]<br>\n",
    "\n",
    "Output:<br>\n",
    "[3, 4, 5, 6]\n",
    "\n"
   ]
  },
  {
   "cell_type": "code",
   "execution_count": 12,
   "metadata": {},
   "outputs": [
    {
     "name": "stdout",
     "output_type": "stream",
     "text": [
      "[3, 4, 5, 6]\n"
     ]
    }
   ],
   "source": [
    "list_one = [1, 2, 3, 4, 5, 6]\n",
    "list_two = [3, 4, 5, 6, 7, 8, 9]\n",
    "\n",
    "def intersection(list_one, list_two):\n",
    "    set_one = set(list_one)\n",
    "    set_two = set(list_two)\n",
    "\n",
    "    intersection = set_one.intersection(set_two)\n",
    "    return list(intersection)\n",
    "\n",
    "result = intersection(list_one, list_two)\n",
    "\n",
    "print(result)"
   ]
  },
  {
   "attachments": {},
   "cell_type": "markdown",
   "metadata": {},
   "source": [
    "## Problem No. 4\n",
    "Write a function **divide_numbers** that takes two numbers as arguments and returns the result of their division. The function should handle the following exceptions:\n",
    "\n",
    "If either of the input numbers is not a numeric value, the function should raise a TypeError exception with the message \"Input values must be numbers.\"\n",
    "If the second number is 0, the function should raise a ValueError exception with the message \"Cannot divide by zero.\"\n",
    "\n",
    "### Example\n",
    "> divide_numbers(10, 5)<br>\n",
    "2.0<br>\n",
    ">divide_numbers(5, 0)<br>\n",
    "Traceback (most recent call last):<br>\n",
    "  ...<br>\n",
    "ValueError: Cannot divide by zero.<br>\n",
    ">divide_numbers(\"10\", \"5\")<br>\n",
    "Traceback (most recent call last):<br>\n",
    "  ...<br>\n",
    "TypeError: Input values must be numbers.<br>\n",
    "\n"
   ]
  },
  {
   "cell_type": "code",
   "execution_count": 8,
   "metadata": {},
   "outputs": [
    {
     "ename": "ValueError",
     "evalue": "Cannot divide by zero.",
     "output_type": "error",
     "traceback": [
      "\u001b[1;31m---------------------------------------------------------------------------\u001b[0m",
      "\u001b[1;31mZeroDivisionError\u001b[0m                         Traceback (most recent call last)",
      "\u001b[1;32m~\\AppData\\Local\\Temp\\ipykernel_20856\\3295049878.py\u001b[0m in \u001b[0;36mdivide_numbers\u001b[1;34m(num1, num2)\u001b[0m\n\u001b[0;32m      2\u001b[0m     \u001b[1;32mtry\u001b[0m\u001b[1;33m:\u001b[0m\u001b[1;33m\u001b[0m\u001b[1;33m\u001b[0m\u001b[0m\n\u001b[1;32m----> 3\u001b[1;33m         \u001b[0mresult\u001b[0m \u001b[1;33m=\u001b[0m \u001b[0mnum1\u001b[0m \u001b[1;33m/\u001b[0m \u001b[0mnum2\u001b[0m\u001b[1;33m\u001b[0m\u001b[1;33m\u001b[0m\u001b[0m\n\u001b[0m\u001b[0;32m      4\u001b[0m \u001b[1;33m\u001b[0m\u001b[0m\n",
      "\u001b[1;31mZeroDivisionError\u001b[0m: division by zero",
      "\nDuring handling of the above exception, another exception occurred:\n",
      "\u001b[1;31mValueError\u001b[0m                                Traceback (most recent call last)",
      "\u001b[1;32m~\\AppData\\Local\\Temp\\ipykernel_20856\\3295049878.py\u001b[0m in \u001b[0;36m<module>\u001b[1;34m\u001b[0m\n\u001b[0;32m     11\u001b[0m \u001b[1;33m\u001b[0m\u001b[0m\n\u001b[0;32m     12\u001b[0m \u001b[1;33m\u001b[0m\u001b[0m\n\u001b[1;32m---> 13\u001b[1;33m \u001b[0mdivide_numbers\u001b[0m\u001b[1;33m(\u001b[0m\u001b[1;36m5\u001b[0m\u001b[1;33m,\u001b[0m \u001b[1;36m0\u001b[0m\u001b[1;33m)\u001b[0m\u001b[1;33m\u001b[0m\u001b[1;33m\u001b[0m\u001b[0m\n\u001b[0m\u001b[0;32m     14\u001b[0m \u001b[1;31m# print(result)\u001b[0m\u001b[1;33m\u001b[0m\u001b[1;33m\u001b[0m\u001b[0m\n\u001b[0;32m     15\u001b[0m \u001b[1;33m\u001b[0m\u001b[0m\n",
      "\u001b[1;32m~\\AppData\\Local\\Temp\\ipykernel_20856\\3295049878.py\u001b[0m in \u001b[0;36mdivide_numbers\u001b[1;34m(num1, num2)\u001b[0m\n\u001b[0;32m      4\u001b[0m \u001b[1;33m\u001b[0m\u001b[0m\n\u001b[0;32m      5\u001b[0m     \u001b[1;32mexcept\u001b[0m \u001b[0mZeroDivisionError\u001b[0m\u001b[1;33m:\u001b[0m\u001b[1;33m\u001b[0m\u001b[1;33m\u001b[0m\u001b[0m\n\u001b[1;32m----> 6\u001b[1;33m             \u001b[1;32mraise\u001b[0m \u001b[0mValueError\u001b[0m\u001b[1;33m(\u001b[0m\u001b[1;34m'Cannot divide by zero.'\u001b[0m\u001b[1;33m)\u001b[0m\u001b[1;33m\u001b[0m\u001b[1;33m\u001b[0m\u001b[0m\n\u001b[0m\u001b[0;32m      7\u001b[0m     \u001b[1;32mexcept\u001b[0m \u001b[0mTypeError\u001b[0m\u001b[1;33m:\u001b[0m\u001b[1;33m\u001b[0m\u001b[1;33m\u001b[0m\u001b[0m\n\u001b[0;32m      8\u001b[0m             \u001b[0mresult\u001b[0m \u001b[1;33m=\u001b[0m \u001b[1;33m(\u001b[0m\u001b[1;34m'Input values must be numbers'\u001b[0m\u001b[1;33m)\u001b[0m\u001b[1;33m\u001b[0m\u001b[1;33m\u001b[0m\u001b[0m\n",
      "\u001b[1;31mValueError\u001b[0m: Cannot divide by zero."
     ]
    }
   ],
   "source": [
    "def divide_numbers(num1, num2):\n",
    "    try:\n",
    "        result = num1 / num2\n",
    "\n",
    "    except ZeroDivisionError:\n",
    "            raise ValueError('Cannot divide by zero.')\n",
    "    except TypeError:\n",
    "            result = ('Input values must be numbers')\n",
    "    \n",
    "    return result\n",
    "\n",
    "\n",
    "divide_numbers(5, 0)   \n",
    "# print(result)\n",
    "\n",
    "# divide_numbers(10, 0)   \n",
    "# print(result)\n",
    "\n",
    "# divide_numbers('jhg', 10)\n",
    "# print(result)"
   ]
  }
 ],
 "metadata": {
  "kernelspec": {
   "display_name": "base",
   "language": "python",
   "name": "python3"
  },
  "language_info": {
   "codemirror_mode": {
    "name": "ipython",
    "version": 3
   },
   "file_extension": ".py",
   "mimetype": "text/x-python",
   "name": "python",
   "nbconvert_exporter": "python",
   "pygments_lexer": "ipython3",
   "version": "3.9.13"
  },
  "orig_nbformat": 4,
  "vscode": {
   "interpreter": {
    "hash": "a90aeebcf29d64a654773811cc170cb25061cb2498f10ac689db374c7bf325de"
   }
  }
 },
 "nbformat": 4,
 "nbformat_minor": 2
}
