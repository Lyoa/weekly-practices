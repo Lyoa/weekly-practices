{
 "cells": [
  {
   "attachments": {},
   "cell_type": "markdown",
   "metadata": {},
   "source": [
    "Additional-Problem-Two"
   ]
  },
  {
   "cell_type": "code",
   "execution_count": 1,
   "metadata": {},
   "outputs": [
    {
     "name": "stdout",
     "output_type": "stream",
     "text": [
      "L\n",
      "Le\n",
      "Lex\n",
      "Lexc\n",
      "Lexco\n",
      "Lexcod\n",
      "Lexcode\n"
     ]
    }
   ],
   "source": [
    "#Problem 1\n",
    "word = input(\"Insert word: \")\n",
    "\n",
    "for index in range(len(word)):\n",
    "    print(word[:index + 1])"
   ]
  },
  {
   "cell_type": "code",
   "execution_count": 3,
   "metadata": {},
   "outputs": [
    {
     "name": "stdout",
     "output_type": "stream",
     "text": [
      "*22*\n",
      "2112\n",
      "2112\n",
      "*22*\n"
     ]
    }
   ],
   "source": [
    "#Problem 2\n",
    "num = int(input('Insert number of iteration(s): '))\n",
    "\n",
    "table = num * 2\n",
    "\n",
    "for row in range(table):\n",
    "    for col in range(table):\n",
    "        dleft = col\n",
    "        dright = (table - col) - 1\n",
    "        dtop = row\n",
    "        dbottom = (table - row) - 1\n",
    "\n",
    "        distance = [dleft, dright, dtop, dbottom]\n",
    "        output = min(distance)\n",
    "\n",
    "        if distance.count(0) == 2:\n",
    "            print('*', end='')\n",
    "        else:\n",
    "            print(num - output, end='')\n",
    "    \n",
    "    print()"
   ]
  },
  {
   "cell_type": "code",
   "execution_count": 4,
   "metadata": {},
   "outputs": [
    {
     "name": "stdout",
     "output_type": "stream",
     "text": [
      "******\n",
      "*2222*\n",
      "*2112*\n",
      "*2112*\n",
      "*2222*\n",
      "******\n"
     ]
    }
   ],
   "source": [
    "#Problem 3\n",
    "num = int(input(\"Insert number of iteration(s): \"))\n",
    "\n",
    "table = num * 2\n",
    "\n",
    "for row in range(table):\n",
    "    for col in range(table):\n",
    "        dleft = col\n",
    "        dright = (table - col) - 1\n",
    "        dtop = row\n",
    "        dbottom = (table - row) - 1\n",
    "\n",
    "        distance = [dleft, dright, dtop, dbottom]\n",
    "        output = min(distance)\n",
    "\n",
    "        if distance.count(0) > 0:\n",
    "            print(\"*\", end=\"\")\n",
    "        else:\n",
    "            print(num - output, end=\"\")\n",
    "    \n",
    "    print()"
   ]
  },
  {
   "cell_type": "code",
   "execution_count": 5,
   "metadata": {},
   "outputs": [
    {
     "name": "stdout",
     "output_type": "stream",
     "text": [
      "****\n",
      "****\n",
      "****\n",
      "****\n"
     ]
    }
   ],
   "source": [
    "#Problem 4\n",
    "num = int(input(\"Insert number of iteration(s): \"))\n",
    "\n",
    "table = num * 2\n",
    "\n",
    "for row in range(table):\n",
    "    for col in range(table):\n",
    "        dleft = col\n",
    "        dright = (table - col) - 1\n",
    "        dtop = row\n",
    "        dbottom = (table - row) - 1\n",
    "        \n",
    "        distance = [dleft, dright, dtop, dbottom]\n",
    "        output = min(distance)\n",
    "\n",
    "        if distance.count(0) > 0 or (row == num - 1) or row == (num):\n",
    "            print(\"*\", end=\"\")\n",
    "        else:\n",
    "            print(num - output, end=\"\")\n",
    "    \n",
    "    print()"
   ]
  }
 ],
 "metadata": {
  "kernelspec": {
   "display_name": "test_env",
   "language": "python",
   "name": "python3"
  },
  "language_info": {
   "codemirror_mode": {
    "name": "ipython",
    "version": 3
   },
   "file_extension": ".py",
   "mimetype": "text/x-python",
   "name": "python",
   "nbconvert_exporter": "python",
   "pygments_lexer": "ipython3",
   "version": "3.8.0"
  },
  "orig_nbformat": 4,
  "vscode": {
   "interpreter": {
    "hash": "30eda9e68cf5b3239db157d268280b21de156a63948c2c3d656edef61e56cd04"
   }
  }
 },
 "nbformat": 4,
 "nbformat_minor": 2
}
