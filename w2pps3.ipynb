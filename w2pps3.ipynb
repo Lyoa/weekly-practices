{
 "cells": [
  {
   "attachments": {},
   "cell_type": "markdown",
   "metadata": {},
   "source": [
    "# WEEK 2 PRACTICE PROBLEMS - SET 3\n",
    "## Problem No. 1\n",
    "\n",
    "Create a function that can extract terms (based on a given glossary) from a list of valorant voicelines. If a particular voice line does not contain any term in the glossary, print \"No match found.\".\n",
    "### Example Input (1):\n",
    "val_voiceline = [\"Here comes the party\", \"Prepare for hellfire\", \"You want to play? Let's play\"]<br>\n",
    "glossary = [\"par\", \"hell\", \"lay\"]<br>\n",
    "\n",
    "### Example Output (1):\n",
    "Extracted word: party<br>\n",
    "Extracted word: prepare, hellfire<br>\n",
    "Extracted word: play?, play<br>\n",
    "\n",
    "### Example Input (2):\n",
    "val_voiceline = [\"Here comes the party\", \"You will not kill my allies\", \"Prepare for hellfire\", \"You want to play? Let's play\", \"I suggest you move\"]<br>\n",
    "glossary = [\"par\", \"hell\", \"lay\", \"all\"]<br>\n",
    "\n",
    "### Example Output (2):\n",
    "Extracted word: party<br>\n",
    "Extracted word: allies<br>\n",
    "Extracted word: prepare, hellfire<br>\n",
    "Extracted word: play?, play<br>\n",
    "No match found.<br>"
   ]
  },
  {
   "cell_type": "code",
   "execution_count": 1,
   "metadata": {},
   "outputs": [
    {
     "name": "stdout",
     "output_type": "stream",
     "text": [
      "Extracted word: party\n",
      "Extracted word: allies\n",
      "Extracted word: prepare, hellfire\n",
      "Extracted word: play?, play\n",
      "No match found.\n"
     ]
    }
   ],
   "source": [
    "val_voiceline = [\"Here comes the party\", \"You will not kill my allies\", \"Prepare for earphone hellfire\", \"You want to play? Let's play\", \"I suggest you move\"]\n",
    "\n",
    "B = [\"par\", \"hell\", \"lay\", \"all\"]\n",
    "\n",
    "def extract_term(sentence, glossary):\n",
    "    sentence_words = sentence.lower().split()\n",
    "    container = []\n",
    "    for word in sentence_words:\n",
    "        for term in glossary:\n",
    "            if term in word:\n",
    "                container.append(word)\n",
    "    return (', '.join(container))\n",
    "\n",
    "for sentence in val_voiceline:\n",
    "    term = extract_term(sentence, B)\n",
    "    if term:\n",
    "        print(f\"Extracted word: {term}\")\n",
    "    else:\n",
    "        print(\"No match found.\")"
   ]
  },
  {
   "attachments": {},
   "cell_type": "markdown",
   "metadata": {},
   "source": [
    "## Problem No. 2\n",
    "\n",
    "Write a function that accepts an encoded string as a parameter. This string will contain a first name, last name, and an id.\n",
    "\n",
    "Values in the string can be separated by any number of zeros. The id is a numeric value but will contain no zeros. The function should parse the string and return a Python dictionary that contains the first name, last name, and id values.\n",
    "\n",
    "An example input would be “Lexcode000Sakalam0001234”. The function should return the following using that input:\n",
    "\n",
    "{ “first_name”: “Lexcode”, “last_name”: “Sakalam”, “id”: “1234” }"
   ]
  },
  {
   "cell_type": "code",
   "execution_count": 2,
   "metadata": {},
   "outputs": [
    {
     "name": "stdout",
     "output_type": "stream",
     "text": [
      "{'first_name': 'Lexcode', 'last_name': 'Sakalam', 'id': '1234'}\n"
     ]
    }
   ],
   "source": [
    "def parse_string(encoded_string):\n",
    "    parts = [part for part in encoded_string.split('0') if part != '']\n",
    "    keys = [\"first_name\", \"last_name\", \"id\"]\n",
    "    return dict(zip(keys,parts))\n",
    "\n",
    "encoded_string = \"Lexcode000Sakalam0001234\"\n",
    "parsed_dict = parse_string(encoded_string)\n",
    "print(parsed_dict)"
   ]
  },
  {
   "attachments": {},
   "cell_type": "markdown",
   "metadata": {},
   "source": [
    "## Problem No. 3\n",
    "\n",
    "Create a function that accepts a list of sentences as a parameter and filter any newline characters (e.g., line break, tab, etc.) and other special characters (e.g., @, !, #, etc.). \n",
    "\n",
    "Input = ['This\\nis\\nspartan!', 'A\\nlife\\twithout: purpose\\nis\\tfutile', 'Death! It stares upon as all, and all a man can do is smile back :)']<br>\n",
    "Output = ['This is spartan', 'A life without purpose is futile', 'Death It stares upon as all and all a man can do is smile back']<br>"
   ]
  },
  {
   "cell_type": "code",
   "execution_count": 3,
   "metadata": {},
   "outputs": [
    {
     "data": {
      "text/plain": [
       "['This is spartan',\n",
       " 'A life without purpose is futile',\n",
       " 'Death It stares upon as all and all a man can do is smile back']"
      ]
     },
     "execution_count": 3,
     "metadata": {},
     "output_type": "execute_result"
    }
   ],
   "source": [
    "def clean(sentences):\n",
    "  container = []\n",
    "  for sentence in sentences:\n",
    "    sentence = \"\".join(e for e in sentence if e.isalnum() or e.isspace()).replace('\\n', ' ').replace('\\t', ' ').strip()\n",
    "    container.append(sentence)\n",
    "  return container\n",
    "sentences = ['This\\nis\\nspartan!', 'A\\nlife\\twithout: purpose\\nis\\tfutile', 'Death! It stares upon as all, and all a man can do is smile back :)']\n",
    "clean(sentences)"
   ]
  },
  {
   "attachments": {},
   "cell_type": "markdown",
   "metadata": {},
   "source": [
    "## Problem No. 4\n",
    "\n",
    "Create a function that can remove different bullet points from a list of sentences using regular expression.\n",
    "\n",
    "\n",
    "### Input\n",
    "sentencesList = [<br>\n",
    "    '*   &emsp; This is a sentence with a bullet point.',<br>\n",
    "    '- &ensp;This is another sentence with a bullet point.',<br>\n",
    "    '+     This is a third sentence with a bullet point.',<br>\n",
    "    'a. This sentence has a letter bullet point.'<br>\n",
    "]<br>\n",
    "### Output \n",
    "['This is a sentence with a bullet point.',<br>\n",
    " 'This is another sentence with a bullet point.',<br>\n",
    " 'This is a third sentence with a bullet point.',<br>\n",
    " 'This sentence has a letter bullet point.']<br>"
   ]
  },
  {
   "cell_type": "code",
   "execution_count": 4,
   "metadata": {},
   "outputs": [
    {
     "data": {
      "text/plain": [
       "['This is a sentence with a bullet point.',\n",
       " 'This is another sentence with a bullet point.',\n",
       " 'This is a third sentence with a bullet point.',\n",
       " 'This sentence has a letter bullet point.']"
      ]
     },
     "execution_count": 4,
     "metadata": {},
     "output_type": "execute_result"
    }
   ],
   "source": [
    "import re\n",
    "\n",
    "def sentenceCleaner(sentencesList):\n",
    "    cleanedSentenceList = []\n",
    "    for i in range(len(sentencesList)):\n",
    "        cleanedSentenceList.append(re.sub('[\\*\\-\\+]\\s*|(\\w\\.)\\s', '', sentencesList[i]))\n",
    "\n",
    "    return cleanedSentenceList\n",
    "\n",
    "sentencesList = [\n",
    "    '*   This is a sentence with a bullet point.',\n",
    "    '- This is another sentence with a bullet point.',\n",
    "    '+   This is a third sentence with a bullet point.',\n",
    "    'a. This sentence has a letter bullet point.'\n",
    "]\n",
    "\n",
    "sentenceCleaner(sentencesList)"
   ]
  },
  {
   "attachments": {},
   "cell_type": "markdown",
   "metadata": {},
   "source": [
    "## Problem No. 5\n",
    "\n",
    "Create a function that accepts a list of emails as parameter and filters out any invalid format of email using regular expression. The appropriate format of an email is as follow:\n",
    "\n",
    "• Should have exactly one @ symbol<br>\n",
    "• Should have at least one . symbol after @ symbol<br>\n",
    "• Should not contain any spaces<br>\n",
    "• Should not start or end with . symbol or @ symbol<br>\n",
    "\n",
    "\n",
    "### Input\n",
    "emails = ['example.email@domain.com', 'invalid.email.com', 'noatsymbol.com', 'two@@atsymbols.com', '.dot@start.com', 'dot@end@.com.']\n",
    "]<br>\n",
    "### Output \n",
    "validEmails = ['example.email@domain.com']<br>"
   ]
  },
  {
   "cell_type": "code",
   "execution_count": 5,
   "metadata": {},
   "outputs": [
    {
     "name": "stdout",
     "output_type": "stream",
     "text": [
      "['example.email@domain.com']\n"
     ]
    }
   ],
   "source": [
    "import re\n",
    "\n",
    "def validate_emails(emails):\n",
    "    valid_emails = []\n",
    "    for email in emails:\n",
    "        pattern = '[^\\s\\.][^\\s@]+@[^\\s@]+\\.[^\\s@]+'\n",
    "        if re.match(pattern, email):\n",
    "            valid_emails.append(email)\n",
    "    return valid_emails\n",
    "\n",
    "# Example usage\n",
    "emails = ['example.email@domain.com', 'invalid.email.com', 'noatsymbol.com', 'two@@atsymbols.com', '.dot@start.com', 'dot@end@.com.','dot.com@end']\n",
    "valid_emails = validate_emails(emails)\n",
    "print(valid_emails)\n"
   ]
  },
  {
   "attachments": {},
   "cell_type": "markdown",
   "metadata": {},
   "source": [
    "## Problem No. 6\n",
    "Name: Michael Jackson<br>\n",
    "Birthday: August 29, 1958 (Birthplace: Gary, Indiana, U.S.)<br>\n",
    "Death: June 25, 2009 (Los Angeles, California) Age 50<br>\n",
    "Nationality: American <br>\n",
    "(Profession Songwriter Entertainer Dancer Philanthropist)<br>\n",
    "Dubbed the King of Pop<br>\n",
    "Education: Montclair College Prep School<br>\n",
    "The eighth child of the Jackson family, Jackson made his public debut in 1964 with his older brothers Jackie, Tito, Jermaine, and Marlon as a member of the Jackson 5 (later known as the Jacksons). Jackson began his solo career in 1971 while at Motown Records. He became a solo star with his 1979 album Off the Wall.\n",
    "\n",
    "Given the text above, create a function that will extract necessary information (using regular expression) about the person's Name, Birthday, Birthplace, date of Death, Place of Death, Age, Nationality, Profession(s), Education, and what the person is known for world-wide. The aforementioned information should be contained inside a dictionary with each detail serving as the key.\n",
    "\n",
    "### Output:\n",
    "\n",
    "{ 'Name': Michael Jackson',<br>\n",
    "  'Birthday': August 29, 1958',<br>\n",
    "  'Birthplace': 'Gary, Indiana, U.S.',<br>\n",
    "  'Died': 'June 25, 2009',<br>\n",
    "  'Place of Death': 'Los Angeles, California',<br>\n",
    "  'Age': '50'<br>\n",
    "  'Nationality': 'American',<br>\n",
    "  'Profession(s)': 'Songwriter Entertainer Dancer Philanthropist',<br>\n",
    "  'Education': 'Montclair College Prep School',<br>\n",
    "  'Known as': 'King of Pop'}<br>"
   ]
  },
  {
   "cell_type": "code",
   "execution_count": 6,
   "metadata": {},
   "outputs": [
    {
     "data": {
      "text/plain": [
       "{'Name': 'Michael Jackson',\n",
       " 'Birthday': 'August 29, 1958',\n",
       " 'Birthplace': 'Gary, Indiana, U.S.',\n",
       " 'Died': 'June 25, 2009',\n",
       " 'Place of Death': 'Los Angeles, California',\n",
       " 'Age': '50',\n",
       " 'Nationality': 'American',\n",
       " 'Profession(s)': 'Songwriter Entertainer Dancer Philanthropist',\n",
       " 'Education': 'Montclair College Prep School',\n",
       " 'Known as': 'King of Pop'}"
      ]
     },
     "execution_count": 6,
     "metadata": {},
     "output_type": "execute_result"
    }
   ],
   "source": [
    "import re\n",
    "\n",
    "text = '''\n",
    "Name: Michael Jackson\n",
    "Birthday: August 29, 1958 (Birthplace: Gary, Indiana, U.S.)\n",
    "Death: June 25, 2009 (Los Angeles, California) Age 50\n",
    "Nationality: American\n",
    "(Profession Songwriter Entertainer Dancer Philanthropist)\n",
    "Dubbed the King of Pop\n",
    "Education: Montclair College Prep School\n",
    "The eighth child of the Jackson family, Jackson made his public debut in 1964\n",
    "with his older brothers Jackie, Tito, Jermaine, and Marlon as a member of the Jackson 5\n",
    "(later known as the Jacksons). Jackson began his solo career in 1971 while at Motown Records.\n",
    "He became a solo star with his 1979 album Off the Wall.\n",
    "'''\n",
    "\n",
    "def extract_info(pattern, text):\n",
    "  matches = re.findall(pattern,text)\n",
    "  return matches[0]\n",
    "\n",
    "def personal_info(text):\n",
    "  name = extract_info('me: (.+)',text)\n",
    "  birthday = extract_info('y: (.*) \\(',text)\n",
    "  birthplace = extract_info('ce: (.*)\\)',text)\n",
    "  dateOfDeath = extract_info('h: (.*)\\s\\(',text)\n",
    "  placeOfDeath = extract_info('\\((L.*)\\)',text)\n",
    "  age = extract_info('Age (\\d*)',text)\n",
    "  nationality = extract_info('ty: (.*)',text)\n",
    "  professions = extract_info('n (S.*)\\)',text)\n",
    "  education = extract_info('n: (.*)',text)\n",
    "  known = extract_info('he (K.*)',text)\n",
    "  \n",
    "  return {'Name': name,\n",
    "          'Birthday': birthday,\n",
    "          'Birthplace': birthplace,\n",
    "          'Died': dateOfDeath,\n",
    "          'Place of Death': placeOfDeath,\n",
    "          'Age': age,\n",
    "          'Nationality': nationality,\n",
    "          'Profession(s)': professions,\n",
    "          'Education': education,\n",
    "          'Known as': known}\n",
    "personal_info(text)"
   ]
  }
 ],
 "metadata": {
  "kernelspec": {
   "display_name": "base",
   "language": "python",
   "name": "python3"
  },
  "language_info": {
   "codemirror_mode": {
    "name": "ipython",
    "version": 3
   },
   "file_extension": ".py",
   "mimetype": "text/x-python",
   "name": "python",
   "nbconvert_exporter": "python",
   "pygments_lexer": "ipython3",
   "version": "3.9.7"
  },
  "orig_nbformat": 4,
  "vscode": {
   "interpreter": {
    "hash": "94d783fc23adeb652cc83383c6aa5d37e9c58dca78143796a69fc22cf725d0d5"
   }
  }
 },
 "nbformat": 4,
 "nbformat_minor": 2
}
