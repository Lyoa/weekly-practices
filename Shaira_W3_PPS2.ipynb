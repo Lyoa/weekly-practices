{
 "cells": [
  {
   "attachments": {},
   "cell_type": "markdown",
   "metadata": {},
   "source": [
    "# Week 2 Practice Problems - Set 2\n",
    "## Problem No. 1\n",
    "\n",
    "Given a list of words and a target string, find all the words from the list that can be formed by rearranging the letters of the target string.\n",
    "\n",
    "[Example]\n",
    "\n",
    "Input:<br>\n",
    "words = ['cat', 'dog', 'act', 'tac', 'god', 'good']<br>\n",
    "target = 'taco'<br>\n",
    "\n",
    "Output:<br>\n",
    "['cat', 'act', 'tac']<br>"
   ]
  },
  {
   "cell_type": "code",
   "execution_count": null,
   "metadata": {},
   "outputs": [],
   "source": [
    "print(\"Hello World\")"
   ]
  },
  {
   "attachments": {},
   "cell_type": "markdown",
   "metadata": {},
   "source": [
    "## Problem No. 2\n",
    "\n",
    "You are given a list of words. Write a function that returns a dictionary where each key is a unique letter that appears in the words, and the value is a list of words that contain that letter.\n",
    "\n",
    "[Example]\n",
    "\n",
    "Input:<br>\n",
    "words = ['apple', 'banana', 'cherry', 'date', 'elderberry']<br>\n",
    "\n",
    "Output:<br>\n",
    "{<br>\n",
    "'a': ['apple', 'banana', 'date'],<br>\n",
    "'b': ['banana' 'elderberry'],<br>\n",
    "'c': ['cherry'],<br>\n",
    "'d': ['date'],<br>\n",
    "'e': ['apple','cherry','date,'elderberry'],<br>\n",
    "'h': ['cherry'],<br>\n",
    "'l': ['apple', 'elderberry'],<br>\n",
    "'n': ['banana'],<br>\n",
    "'p': ['apple'],<br>\n",
    "'r': ['cherry','elderberry'],<br>\n",
    "'t': ['date'],<br>\n",
    "'y': ['cherry','elderberry']<br>\n",
    "}<br>"
   ]
  },
  {
   "cell_type": "code",
   "execution_count": 8,
   "metadata": {},
   "outputs": [],
   "source": [
    "words = ['apple','banana','cherry','date','elderberry']\n",
    "\n",
    "for \n",
    "print()"
   ]
  }
 ],
 "metadata": {
  "kernelspec": {
   "display_name": "base",
   "language": "python",
   "name": "python3"
  },
  "language_info": {
   "codemirror_mode": {
    "name": "ipython",
    "version": 3
   },
   "file_extension": ".py",
   "mimetype": "text/x-python",
   "name": "python",
   "nbconvert_exporter": "python",
   "pygments_lexer": "ipython3",
   "version": "3.9.7"
  },
  "orig_nbformat": 4
 },
 "nbformat": 4,
 "nbformat_minor": 2
}
