{
 "cells": [
  {
   "cell_type": "markdown",
   "metadata": {},
   "source": [
    "### < 1 > ### \n",
    "\n",
    "[Problem Description]\n",
    "\n",
    "- Reverse the natural number *n* and return it as an array with each digit as an element.\n",
    "- For example, if n is 12345, it returns [5,4,3,2,1].\n",
    "\n",
    "\n",
    "\n",
    "[Constraints]\n",
    "\n",
    "- *n* is a natural number less than or equal to 10,000,000."
   ]
  },
  {
   "cell_type": "code",
   "execution_count": 35,
   "metadata": {},
   "outputs": [
    {
     "name": "stdout",
     "output_type": "stream",
     "text": [
      "[0, 4, 7, 2, 3]\n"
     ]
    }
   ],
   "source": [
    "#slicing\n",
    "#for loop and append char in reverse \n",
    "#while loop then iterate in reverse and append\n",
    "#join() and reversed() iterator\n",
    "n = 32740\n",
    "\n",
    "reverse_num = []\n",
    "while n > 0:\n",
    "    digit = n % 10\n",
    "    reverse_num.append(digit)\n",
    "    n //= 10 #floordiv\n",
    "print(reverse_num)\n"
   ]
  },
  {
   "cell_type": "markdown",
   "metadata": {},
   "source": [
    "### < 2 > ### \n",
    "\n",
    "[Problem Description]\n",
    "\n",
    "- Given a string *s* with mixed uppercase and lowercase letters.\n",
    "- Complete a solution that compares the number of 'p' and the number of 'y' in *s* and returns True if they are equal and False if they are different. If neither 'p' nor 'y' is present, True is always returned. However, uppercase and lowercase letters are not distinguished when comparing counts.\n",
    "\n",
    "- For example, return true if *s* is \"pPoooyY\" and return false if *s* is \"Pyy\".\n",
    "\n",
    "[Constraints]\n",
    "\n",
    "- Length of string *s*: A natural number less than or equal to 50.\n",
    "- The string s consists only of alphabets.\n"
   ]
  },
  {
   "cell_type": "code",
   "execution_count": 45,
   "metadata": {},
   "outputs": [
    {
     "name": "stdout",
     "output_type": "stream",
     "text": [
      "True\n"
     ]
    }
   ],
   "source": [
    "s = \"pPoyyY\"\n",
    "# s = \"pPoooyY\"\n",
    "\n",
    "answer_p = 0\n",
    "answer_y = 0\n",
    "\n",
    "def solution(s):\n",
    "     for letter in s:\n",
    "          if letter == 'p':\n",
    "               answer_p += 1\n",
    "          elif letter == 'y':\n",
    "               answer_y += 1\n",
    "\n",
    "if answer_p == answer_y:\n",
    "     print('True')\n",
    "else:\n",
    "     print('False')      "
   ]
  },
  {
   "cell_type": "markdown",
   "metadata": {},
   "source": [
    "### < 3 > ### \n",
    "\n",
    "[Problem Description]\n",
    "\n",
    "- When a phone number is given as a string *phone_number*, complete the solution as a function that returns a string in which all numbers except for the last 4 digits of the phone number are covered with *.\n",
    "\n",
    "- For example, if phone number is \"01033334444\", it returns \"*******4444\"\n",
    "\n",
    "[Constraints]\n",
    "\n",
    "- phone_number is a string of length greater than or equal to 4 and less than or equal to 20."
   ]
  },
  {
   "cell_type": "code",
   "execution_count": 33,
   "metadata": {},
   "outputs": [
    {
     "name": "stdout",
     "output_type": "stream",
     "text": [
      "#####8888\n"
     ]
    }
   ],
   "source": [
    "phone_number = \"027778888\"\n",
    "\n",
    "#for num in digit:\n",
    "#answer = answer.replace(digit, '*' * len(num))\n",
    "def solution(phone_number):\n",
    "    answer = str(phone_number)\n",
    "masked = len(phone_number[:-4])*\"#\"+phone_number[-4:] \n",
    "#(len(unmasked)-4)\n",
    "print(masked)"
   ]
  },
  {
   "attachments": {},
   "cell_type": "markdown",
   "metadata": {},
   "source": [
    "### < 4 > ### \n",
    "\n",
    "[Problem Description]\n",
    "\n",
    "- Array *arr* is given. Each element of the array arr consists of the numbers 0 - 9.\n",
    "- At this time, we want to remove all but one number that appears consecutively in the array *arr*. However, when returning the remaining numbers after removal, the order of the elements in the array *arr* must be maintained. For example,\n",
    "\n",
    "    - If arr = [1, 1, 3, 3, 0, 1, 1], it returns [1, 3, 0, 1].\n",
    "    - If arr = [4, 4, 4, 3, 3] then return [4, 3]\n",
    "- Complete a solution function that removes consecutive numbers from the array arr and returns the remaining numbers.\n",
    "\n",
    "[Constraints]\n",
    "\n",
    "- Size of array *arr*: A natural number less than or equal to 1,000,000\n",
    "- The size of the elements of the array *arr*: an integer greater than or equal to 0 and less than or equal to 9."
   ]
  },
  {
   "cell_type": "code",
   "execution_count": 34,
   "metadata": {},
   "outputs": [
    {
     "name": "stdout",
     "output_type": "stream",
     "text": [
      "[2, 5, 6, 3, 0, 1]\n"
     ]
    }
   ],
   "source": [
    "arr = [2, 2, 5, 6, 3, 3, 3, 0, 1, 1]\n",
    "\n",
    "def solution(arr):\n",
    "    answer = []\n",
    "    for num in arr:\n",
    "        if num not in answer:\n",
    "            answer.append(num)\n",
    "    return answer\n",
    "\n",
    "print(solution(arr))"
   ]
  },
  {
   "cell_type": "markdown",
   "metadata": {},
   "source": [
    "### < 5 > ### \n",
    "\n",
    "[Problem Description]\n",
    "\n",
    "-  A company that makes business card wallets is trying to determine the size of the wallet. You need to create a wallet that can hold business cards of all shapes and sizes, yet is small and comfortable to carry around. To create a wallet that meets these requirements, the design team researched the width and height of all business cards.\n",
    "- The table below shows the width and height of four business cards.\n",
    "\n",
    "id | width | height\n",
    "---|-------|--------\n",
    " 1 |   60  |   50\n",
    " 2 |   30  |   70\n",
    " 3 |   60  |   30\n",
    " 4 |   80  |   40\n",
    "\n",
    "- Since the longest horizontal and vertical lengths are 80 and 70, respectively, if you make a wallet 80 (width) x 70 (length), all business cards can be accommodated. However, if you store business cards number 2 horizontally, you can store all the business cards in a 80 (width) x 50 (vertical) wallet. The wallet size at this time is 4000 (=80 x 50).\n",
    "- The two-dimensional array sizes representing the horizontal and vertical lengths of all business cards is given as a parameter. When creating the smallest wallet that can hold all business cards, complete the solution function to return the size of the wallet.\n",
    "\n",
    "[Constraints]\n",
    "\n",
    "- The length of sizes is greater than or equal to 1 and less than or equal to 10,000.\n",
    "- The elements of sizes are of the form [w, h].\n",
    "- w represents the horizontal length of the business card.\n",
    "- h represents the vertical length of the business card.\n",
    "- w and h are natural numbers greater than or equal to 1 and less than or equal to 1,000.\n",
    "\n",
    "[I/O example]\n",
    "\n",
    "- sizes(input): [[60, 50], [30, 70], [60, 30], [80, 40]]\n",
    "- result(output): 4000"
   ]
  },
  {
   "cell_type": "code",
   "execution_count": null,
   "metadata": {},
   "outputs": [],
   "source": [
    "sizes = [[10, 7], [12, 3], [8, 15], [14, 7], [5, 15]]\n",
    "\n",
    "def solution(sizes):\n",
    "    answer = 0\n",
    "    return answer\n",
    "\n",
    "print(solution(sizes))"
   ]
  },
  {
   "cell_type": "markdown",
   "metadata": {},
   "source": [
    "### < 6 > ### \n",
    "\n",
    "[Problem Description]\n",
    "\n",
    "- Write a function that returns the number of prime numbers between 1 and the number *n*.\n",
    "- A prime number is a number divisible only by 1 and itself.(1 is not prime.)\n",
    "- If n is 10, it returns 4 because there are 4 primes between 1 and 10 [2,3,5,7].\n",
    "\n",
    "[Constraints]\n",
    "\n",
    "- n is a natural number greater than or equal to 2 and less than or equal to 1,000,000."
   ]
  },
  {
   "cell_type": "code",
   "execution_count": 70,
   "metadata": {},
   "outputs": [
    {
     "ename": "TypeError",
     "evalue": "'int' object is not iterable",
     "output_type": "error",
     "traceback": [
      "\u001b[1;31m---------------------------------------------------------------------------\u001b[0m",
      "\u001b[1;31mTypeError\u001b[0m                                 Traceback (most recent call last)",
      "\u001b[1;32m~\\AppData\\Local\\Temp\\ipykernel_11392\\2136622007.py\u001b[0m in \u001b[0;36m<module>\u001b[1;34m\u001b[0m\n\u001b[0;32m     12\u001b[0m                     \u001b[0modd\u001b[0m\u001b[1;33m.\u001b[0m\u001b[0mappend\u001b[0m\u001b[1;33m(\u001b[0m\u001b[0mn\u001b[0m\u001b[1;33m)\u001b[0m\u001b[1;33m\u001b[0m\u001b[1;33m\u001b[0m\u001b[0m\n\u001b[0;32m     13\u001b[0m \u001b[1;33m\u001b[0m\u001b[0m\n\u001b[1;32m---> 14\u001b[1;33m \u001b[0mprint\u001b[0m\u001b[1;33m(\u001b[0m\u001b[0mprime_num\u001b[0m\u001b[1;33m(\u001b[0m\u001b[0mn\u001b[0m\u001b[1;33m)\u001b[0m\u001b[1;33m)\u001b[0m\u001b[1;33m\u001b[0m\u001b[1;33m\u001b[0m\u001b[0m\n\u001b[0m",
      "\u001b[1;32m~\\AppData\\Local\\Temp\\ipykernel_11392\\2136622007.py\u001b[0m in \u001b[0;36mprime_num\u001b[1;34m(n)\u001b[0m\n\u001b[0;32m      3\u001b[0m \u001b[1;32mdef\u001b[0m \u001b[0mprime_num\u001b[0m\u001b[1;33m(\u001b[0m\u001b[0mn\u001b[0m\u001b[1;33m)\u001b[0m\u001b[1;33m:\u001b[0m\u001b[1;33m\u001b[0m\u001b[1;33m\u001b[0m\u001b[0m\n\u001b[0;32m      4\u001b[0m     \u001b[0manswer\u001b[0m \u001b[1;33m=\u001b[0m \u001b[1;36m0\u001b[0m\u001b[1;33m\u001b[0m\u001b[1;33m\u001b[0m\u001b[0m\n\u001b[1;32m----> 5\u001b[1;33m     \u001b[1;32mfor\u001b[0m \u001b[0mprime_num\u001b[0m \u001b[1;32min\u001b[0m \u001b[0mn\u001b[0m\u001b[1;33m:\u001b[0m\u001b[1;33m\u001b[0m\u001b[1;33m\u001b[0m\u001b[0m\n\u001b[0m\u001b[0;32m      6\u001b[0m         \u001b[1;32mif\u001b[0m \u001b[0manswer\u001b[0m \u001b[1;33m==\u001b[0m \u001b[1;33m[\u001b[0m\u001b[1;33m]\u001b[0m\u001b[1;33m:\u001b[0m\u001b[1;33m\u001b[0m\u001b[1;33m\u001b[0m\u001b[0m\n\u001b[0;32m      7\u001b[0m             \u001b[0mprint\u001b[0m\u001b[1;33m(\u001b[0m\u001b[1;33m)\u001b[0m\u001b[1;33m\u001b[0m\u001b[1;33m\u001b[0m\u001b[0m\n",
      "\u001b[1;31mTypeError\u001b[0m: 'int' object is not iterable"
     ]
    }
   ],
   "source": [
    "n = 24\n",
    "\n",
    "def prime_num(n):\n",
    "    answer = 0\n",
    "    for prime_num in n:\n",
    "        if answer == []:\n",
    "            print()\n",
    "        else:\n",
    "    \n",
    "            for n in answer:\n",
    "                if (n % 2) == 1:\n",
    "                    odd.append(n)\n",
    "\n",
    "print(prime_num(n))"
   ]
  },
  {
   "cell_type": "markdown",
   "metadata": {},
   "source": [
    "### < 7 > ### \n",
    "\n",
    "[Problem Description]\n",
    "\n",
    "- This theory, put forward by Collatz in 1937, is the conjecture that all numbers can be set to 1 by repeating the following operations until the given number is 1. The task is as follows.\n",
    "    - 1-1) If the number entered is even, divide by 2.\n",
    "    - 1-2) If the number entered is odd, multiply by 3 and add 1.\n",
    "    - 2 )  Repeat the same operation until the resulting number equals 1.\n",
    "\n",
    "- For example, if the given number is 6, then 6 → 3 → 10 → 5 → 16 → 8 → 4 → 2 → 1, which is 1 in eight times. Please complete a solution that returns how many times the above operation must be repeated. However, return 0 if the given number is 1, and -1 if it does not become 1 until the operation is repeated 500 times.\n",
    "\n",
    "[Constraints]\n",
    "\n",
    "- The input, num, is an integer greater than 1 and less than 8,000,000."
   ]
  },
  {
   "cell_type": "code",
   "execution_count": 61,
   "metadata": {},
   "outputs": [
    {
     "name": "stdout",
     "output_type": "stream",
     "text": [
      "5\n"
     ]
    }
   ],
   "source": [
    "num = 56\n",
    "# num = 89\n",
    "# num = 1\n",
    "\n",
    "def solution(num):\n",
    "    answer = 0\n",
    "    while num != 1:\n",
    "        if num % 2 == 0: #if even\n",
    "            num //= 2 #num = num // 2\n",
    "        elif num == 1:\n",
    "             return 0\n",
    "        else: #if odd\n",
    "            num = num * 3 + 1 \n",
    "            answer += 1\n",
    "        \n",
    "        if answer == 500:\n",
    "                return -1\n",
    "\n",
    "    return answer\n",
    "#orbit of every num under f eventually reaches 1\n",
    "print(solution(num))"
   ]
  },
  {
   "cell_type": "markdown",
   "metadata": {},
   "source": [
    "### < 8 > ### \n",
    "\n",
    "[Problem Description]\n",
    "\n",
    "- A thief broke in during lunchtime, and some of the students' PE uniforms were stolen. \n",
    "- Fortunately, a student who has a spare PE uniform wants to lend them one. Students are numbered in order of physique, so you can only borrow PE uniforms from the student with the previous number or the student with the next number. For example, student number 4 may only lend the gym uniform to student number 3 or student number 5.\n",
    "- Because it is impossible to attend classes without PE uniforms, it is necessary to borrow PE uniforms appropriately and allow as many students as possible to attend PE classes.\n",
    "- The solution returns the maximum number of students who can take PE class when *n* is the total number of students, array *lost* is the numbers of students who have stolen PE uniforms, and array *reserve* is the numbers of students who have brought extra PE uniforms, are given as parameters. Please write a function.\n",
    "\n",
    "[Constraints]\n",
    "\n",
    "- The total number of students is 2 or more and 30 or less.\n",
    "- The number of students whose PE uniforms were stolen is at least 1 and no more than n, and there are no duplicate numbers.\n",
    "- The number of students who brought extra PE uniforms is between 1 and n and there are no duplicate numbers.\n",
    "- Only students who have a spare PE uniform may lend it to another student.\n",
    "- A student who brought a spare PE uniform may have it stolen. At this time, this student assumes that only one PE uniform has been stolen, and since there is only one PE uniform left, the student cannot lend the PE uniform to another student.\n",
    "\n",
    "[I/O example]\n",
    "n | lost | reserve | return\n",
    "---|---|---|---\n",
    "5 | [2, 4] | [1, 3, 5] | 5\n",
    "3| [3] | [1] | 2"
   ]
  },
  {
   "cell_type": "code",
   "execution_count": null,
   "metadata": {},
   "outputs": [],
   "source": [
    "n = 5\n",
    "lost = [2, 4]\n",
    "reserve = [3]\n",
    "\n",
    "def solution(n, lost, reserve):\n",
    "    answer = 0\n",
    "    return answer\n",
    "\n",
    "print(solution(n, lost, reserve))"
   ]
  },
  {
   "cell_type": "markdown",
   "metadata": {},
   "source": [
    "### < 9 > ### \n",
    "\n",
    "[Problem Description]\n",
    "\n",
    "- When you cut and sort from the i-th number to the j-th number in an array, you want to find the number in the k-th number.\n",
    "- For example, if array is [1, 5, 2, 6, 3, 7, 4], i = 2, j = 5, k = 3\n",
    "    - If you cut from the 2nd to the 5th of the array, it is [5, 2, 6, 3].\n",
    "    - Sort the array from [5, 2, 6, 3] is [2, 3, 5, 6].\n",
    "    - The third number in the array from [2, 3, 5, 6] is 5.\n",
    "- Write a solution function that takes the array *array* and the 2-dimensional array *commands* with elements of [i, j, k] as a parameter, applies the operation described earlier to all elements of *commands*, and returns an array containing the result.\n",
    "\n",
    "[Constraints]\n",
    "\n",
    "- The length of *array* is greater than or equal to 1 and less than or equal to 100.\n",
    "- Each element in *array* is greater than or equal to 1 and less than or equal to 100.\n",
    "- The length of *commands* is greater than 1 and less than 50.\n",
    "- Each element of *commands* is of length 3.\n",
    "\n",
    "[I/O example]\n",
    "array | commands | return\n",
    "---|---|---\n",
    "[1, 5, 2, 6, 3, 7, 4] | [2, 5, 3], [4, 4, 1], [1, 7, 3]]\t| [5, 6, 3]"
   ]
  },
  {
   "cell_type": "code",
   "execution_count": null,
   "metadata": {},
   "outputs": [],
   "source": [
    "array = [2, 4, 3, 8, 5, 1, 6]\n",
    "commands = [[3, 6, 2], [4, 4, 1], [2, 7, 5]]\n",
    "\n",
    "def solution(array, commands):\n",
    "    answer = []\n",
    "    return answer\n",
    "\n",
    "print(solution(array, commands))"
   ]
  },
  {
   "cell_type": "markdown",
   "metadata": {},
   "source": [
    "### < 10 > ### \n",
    "\n",
    "[Problem Description]\n",
    "\n",
    "- Given a string *s*, we want to decompose it into multiple strings according to the following rules:\n",
    "\n",
    "    - First, read the first letter. Let's call this letter x.\n",
    "    - Now read this string from left to right, counting the number of occurrences of x and the number of occurrences of other characters. When the two counts become equal for the first time, stop and separate the string that has been read so far. \n",
    "    - Subtract the string separated from *s* and repeat this process for the remaining parts. Quit if there are no leftovers.\n",
    "    - If there are no more characters to read when the two counts are different, the string read so far is also separated and terminated.\n",
    "- When a string *s* is given as a parameter, complete the function solution that decomposes into strings as in the above process and returns the number of decomposed strings.\n",
    "\n",
    "[Constraints]\n",
    "\n",
    "- 1 ≤ length of *s* ≤ 10,000\n",
    "- *s* consists of English lowercase letters only.\n",
    "\n",
    "[I/O example]\n",
    "*s* | result\n",
    "---|---\n",
    "\"banana\" | 3\n",
    "\"abracadabra\" | 6\n",
    "\"aaabbaccccabba\" | 3"
   ]
  },
  {
   "cell_type": "code",
   "execution_count": 66,
   "metadata": {},
   "outputs": [
    {
     "ename": "TypeError",
     "evalue": "not all arguments converted during string formatting",
     "output_type": "error",
     "traceback": [
      "\u001b[1;31m---------------------------------------------------------------------------\u001b[0m",
      "\u001b[1;31mTypeError\u001b[0m                                 Traceback (most recent call last)",
      "\u001b[1;32m~\\AppData\\Local\\Temp\\ipykernel_11392\\1291422291.py\u001b[0m in \u001b[0;36m<module>\u001b[1;34m\u001b[0m\n\u001b[0;32m      6\u001b[0m \u001b[1;33m\u001b[0m\u001b[0m\n\u001b[0;32m      7\u001b[0m \u001b[1;31m# new column is a list of every n=2 characters\u001b[0m\u001b[1;33m\u001b[0m\u001b[1;33m\u001b[0m\u001b[0m\n\u001b[1;32m----> 8\u001b[1;33m \u001b[0mprint\u001b[0m\u001b[1;33m(\u001b[0m\u001b[0msolution\u001b[0m\u001b[1;33m(\u001b[0m\u001b[0ms\u001b[0m\u001b[1;33m)\u001b[0m\u001b[1;33m)\u001b[0m\u001b[1;33m\u001b[0m\u001b[1;33m\u001b[0m\u001b[0m\n\u001b[0m",
      "\u001b[1;32m~\\AppData\\Local\\Temp\\ipykernel_11392\\928478397.py\u001b[0m in \u001b[0;36msolution\u001b[1;34m(num)\u001b[0m\n\u001b[0;32m      6\u001b[0m     \u001b[0manswer\u001b[0m \u001b[1;33m=\u001b[0m \u001b[1;36m0\u001b[0m\u001b[1;33m\u001b[0m\u001b[1;33m\u001b[0m\u001b[0m\n\u001b[0;32m      7\u001b[0m     \u001b[1;32mwhile\u001b[0m \u001b[0mnum\u001b[0m \u001b[1;33m!=\u001b[0m \u001b[1;36m1\u001b[0m\u001b[1;33m:\u001b[0m\u001b[1;33m\u001b[0m\u001b[1;33m\u001b[0m\u001b[0m\n\u001b[1;32m----> 8\u001b[1;33m         \u001b[1;32mif\u001b[0m \u001b[0mnum\u001b[0m \u001b[1;33m%\u001b[0m \u001b[1;36m2\u001b[0m \u001b[1;33m==\u001b[0m \u001b[1;36m0\u001b[0m\u001b[1;33m:\u001b[0m \u001b[1;31m#if even\u001b[0m\u001b[1;33m\u001b[0m\u001b[1;33m\u001b[0m\u001b[0m\n\u001b[0m\u001b[0;32m      9\u001b[0m             \u001b[0mnum\u001b[0m \u001b[1;33m//=\u001b[0m \u001b[1;36m2\u001b[0m \u001b[1;31m#num = num // 2\u001b[0m\u001b[1;33m\u001b[0m\u001b[1;33m\u001b[0m\u001b[0m\n\u001b[0;32m     10\u001b[0m         \u001b[1;32melif\u001b[0m \u001b[0mnum\u001b[0m \u001b[1;33m==\u001b[0m \u001b[1;36m1\u001b[0m\u001b[1;33m:\u001b[0m\u001b[1;33m\u001b[0m\u001b[1;33m\u001b[0m\u001b[0m\n",
      "\u001b[1;31mTypeError\u001b[0m: not all arguments converted during string formatting"
     ]
    }
   ],
   "source": [
    "s = \"aabbbccccdadaaef\"\n",
    "#splitting by every 2 character\n",
    "def split(s, n):\n",
    "    sli_word = [s[i:i+n] for i in range(0, len(s), n)] #slicing of s from i\n",
    "    return sli_word\n",
    " \n",
    "# new column is a list of every n=2 characters\n",
    "print(solution(s))"
   ]
  },
  {
   "cell_type": "markdown",
   "metadata": {},
   "source": [
    "### < 11 > ### \n",
    "\n",
    "[Problem Description]\n",
    "\n",
    "- Many marathon runners have participated in the marathon. All runners except for one have completed the marathon.\n",
    "- Write a solution function to return the name of the runner who did not complete the marathon when the array participant containing the names of the runners who participated in the marathon and the array completion containing the names of the runners who completed the marathon are given.\n",
    "- * Use hashes for code efficiency.\n",
    "\n",
    "[Constraints]\n",
    "\n",
    "- The number of runners participating in the marathon is between 1 and 100,000.\n",
    "- The length of completion is one less than the length of participant.\n",
    "- The participant's name must consist of at least 1 and no more than 20 lowercase letters of the alphabet.\n",
    "- There may be other participants with the same name.\n",
    "\n",
    "[I/O example]\n",
    "participant\t| completion | return\n",
    "---|---|---\n",
    "[\"leo\", \"kiki\", \"eden\"]\t| [\"eden\", \"kiki\"] | \"leo\"\n",
    "[\"mislav\", \"stanko\", \"mislav\", \"ana\"] | [\"stanko\", \"ana\", \"mislav\"] | \"mislav\""
   ]
  },
  {
   "cell_type": "code",
   "execution_count": null,
   "metadata": {},
   "outputs": [],
   "source": [
    "participant = [\"marina\", \"josipa\", \"nikola\", \"vinko\", \"filipa\", \"nikola\"]\n",
    "completion = [\"josipa\", \"nikola\", \"filipa\", \"marina\", \"nikola\"]\n",
    "#name = input(\"Enter name of participant: \")\n",
    "def solution(participant, completion):\n",
    "    answer = ''\n",
    "    #num_runners = between(1, 100,000)\n",
    "    #length_of_participant\n",
    "    #completion = 1 > len(length_of_participant)\n",
    "\n",
    "#for name in participant:\n",
    "    #if name\n",
    "    #Invalid\n",
    "    return answer\n",
    "\n",
    "print(solution(participant, completion))"
   ]
  },
  {
   "cell_type": "markdown",
   "metadata": {},
   "source": [
    "### < 12 > ### \n",
    "\n",
    "[Problem Description]\n",
    "\n",
    "- After a long journey to catch Pokémon, you have arrived at Dr. Hong's laboratory. Dr. Hong told you that you may take N/2 of the total number of N Pokémon in his lab.\n",
    "The Pokémon in Dr. Hong's lab are numbered according to their type. Therefore, Pokémon of the same kind have the same number. For example, if there are a total of 4 Pokémons in the lab, and each Pokémon's type number is [3, 1, 2, 3], then this means two Pokémons with No. 3, one Pokémon with No. 1, No. 2 indicates that there is one Pokémon. At this time, there are 6 ways to choose 2 out of 4 Pokémon as follows.\n",
    "\n",
    "\n",
    "    - 1. Select the first (number 3) and the second (number 1) Pokémon\n",
    "    - 2. Select the first (number 3) and the third (number 2) Pokémon\n",
    "    - 3. Select the first (number 3) and the fourth (number 3) Pokémon\n",
    "    - 4. Select the second (number 1) and the third (number 2) Pokémon\n",
    "    - 5. Select the second (number 1) and fourth (number 3) Pokémon\n",
    "    - 6. Select the third (number 2) and fourth (number 3) Pokémon\n",
    "\n",
    "- At this time, the method of selecting the first (number 3) and the fourth (number 3) Pokémon can only have one type of Pokémon (two number 3 Pokémon), but all other methods you can have two types of Pokémon. So, in the example above, the maximum number of types of Pokémon you can have is 2.\n",
    "- Since you want to have as many types of Pokémon as possible, you want to choose N/2 with as many types of Pokémon as possible. Given an array *nums* containing the numbers of N different types of Pokémon, write a solution function that finds the way to select N/2 Pokémon and returns the maximum value of the number of Pokémon types that can be selected.\n",
    "- * Use hashes for code efficiency.\n",
    "\n",
    "[Constraints]\n",
    "\n",
    "- *nums* is a one-dimensional array containing the number of species of Pokémon.\n",
    "- The length of *nums* (N) is a natural number between 1 and 10,000, always given as an even number.\n",
    "- A Pokémon's type number is represented by a natural number between 1 and 200,000.\n",
    "- Even if there are multiple ways to select the most type of Pokémon, you only need to return the maximum value of the number of Pokémon types that can be selected.\n",
    "\n",
    "[I/O example]\n",
    "nums | result\n",
    "---|---\n",
    "[3,1,2,3] | 2\n",
    "[3,3,3,2,2,4] | 3"
   ]
  },
  {
   "cell_type": "code",
   "execution_count": null,
   "metadata": {},
   "outputs": [],
   "source": [
    "nums = [3,3,3,2,2,2]\n",
    "\n",
    "def max_Pokemon(nums):\n",
    "    answer = 0\n",
    "    return answer\n",
    "\n",
    "print(max_Pokemon(nums))"
   ]
  }
 ],
 "metadata": {
  "kernelspec": {
   "display_name": "Python 3.9.13 ('base')",
   "language": "python",
   "name": "python3"
  },
  "language_info": {
   "codemirror_mode": {
    "name": "ipython",
    "version": 3
   },
   "file_extension": ".py",
   "mimetype": "text/x-python",
   "name": "python",
   "nbconvert_exporter": "python",
   "pygments_lexer": "ipython3",
   "version": "3.9.13"
  },
  "orig_nbformat": 4,
  "vscode": {
   "interpreter": {
    "hash": "aae0b65488d806be9bfa617793fa0f1d8c82514fb6b220a841d14df6407edf6d"
   }
  }
 },
 "nbformat": 4,
 "nbformat_minor": 2
}
