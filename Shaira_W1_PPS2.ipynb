{
 "cells": [
  {
   "cell_type": "code",
   "execution_count": 1,
   "metadata": {},
   "outputs": [
    {
     "name": "stdout",
     "output_type": "stream",
     "text": [
      "{3: [(0, 0)], 2: [(1, 2), (3, 6)], 4: [(2, 8), (7, 28)], 1: [(4, 4)], 5: [(5, 25)], 6: [(6, 36)]}\n"
     ]
    }
   ],
   "source": [
    "#Problem 1\n",
    "numbers = []\n",
    "\n",
    "while True:\n",
    "    num_str = input(\"Insert number: \")\n",
    "    \n",
    "    if not num_str.isdigit():\n",
    "        print(\"Invalid input. Please try again.\")\n",
    "        continue\n",
    "    \n",
    "    number = int(num_str)\n",
    "    numbers.append(number)\n",
    "    \n",
    "    while True:\n",
    "        cont = input(\"Would you like to insert another one [y/n]: \")\n",
    "        if cont.lower() == 'y':\n",
    "            break\n",
    "        elif cont.lower() == 'n':\n",
    "            break\n",
    "        else:\n",
    "            print(\"Invalid input. Please try again.\")\n",
    "    \n",
    "    if cont.lower() == 'n':\n",
    "        break\n",
    "\n",
    "dictionary = {}\n",
    "\n",
    "for i, num in enumerate(numbers):\n",
    "    value = (i, num * i)\n",
    "    \n",
    "    if num in dictionary:\n",
    "        dictionary[num].append(value)\n",
    "    else:\n",
    "        dictionary[num] = [value]\n",
    "\n",
    "print(dictionary)"
   ]
  },
  {
   "cell_type": "code",
   "execution_count": 2,
   "metadata": {},
   "outputs": [
    {
     "name": "stdout",
     "output_type": "stream",
     "text": [
      "[[2, 8, 10], [2, 10, 12], [3, 7, 10], [3, 5, 8], [7, 5, 12], [8, 10, 18]]\n"
     ]
    }
   ],
   "source": [
    "#Problem 2\n",
    "numbers = []\n",
    "\n",
    "while True:\n",
    "    try:\n",
    "        number = int(input(\"Insert number: \"))\n",
    "        numbers.append(number)\n",
    "        cont = input(\"Would you like to insert another one [y/n]: \")\n",
    "        if cont.lower() == 'n':\n",
    "            break\n",
    "        elif cont.lower() != 'y':\n",
    "            print(\"Invalid input. Please Try again.\")\n",
    "    except ValueError:\n",
    "        print(\"Invalid input. Please try again.\")\n",
    "\n",
    "result = []\n",
    "#nested for comparison\n",
    "for i in range(len(numbers)):\n",
    "    for s in range(i + 1, len(numbers)):\n",
    "        if (numbers[i] + numbers[s]) % 2 == 0:\n",
    "            newlist = [numbers[i], numbers[s], numbers[i] + numbers[s]]\n",
    "            result.append(newlist)\n",
    "def sort(sublist):\n",
    "    return sublist[0]\n",
    "\n",
    "result.sort(key = sort)\n",
    "\n",
    "print(result)"
   ]
  }
 ],
 "metadata": {
  "kernelspec": {
   "display_name": "base",
   "language": "python",
   "name": "python3"
  },
  "language_info": {
   "codemirror_mode": {
    "name": "ipython",
    "version": 3
   },
   "file_extension": ".py",
   "mimetype": "text/x-python",
   "name": "python",
   "nbconvert_exporter": "python",
   "pygments_lexer": "ipython3",
   "version": "3.9.13"
  },
  "orig_nbformat": 4
 },
 "nbformat": 4,
 "nbformat_minor": 2
}
