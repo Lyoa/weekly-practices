{
 "cells": [
  {
   "attachments": {},
   "cell_type": "markdown",
   "metadata": {},
   "source": [
    "Additional-Problem-One"
   ]
  },
  {
   "cell_type": "code",
   "execution_count": 1,
   "metadata": {},
   "outputs": [
    {
     "name": "stdout",
     "output_type": "stream",
     "text": [
      "{3: [(0, 0)], 2: [(1, 2), (3, 6)], 4: [(2, 8), (7, 28)], 1: [(4, 4)], 5: [(5, 25)], 6: [(6, 36)]}\n"
     ]
    }
   ],
   "source": [
    "#Problem 1\n",
    "numbers = []\n",
    "\n",
    "while True:\n",
    "    number_str = input(\"Insert number: \")\n",
    "    \n",
    "    if not number_str.isdigit():\n",
    "        print(\"Invalid input. Please try again.\")\n",
    "        continue\n",
    "    \n",
    "    number = int(number_str)\n",
    "    numbers.append(number)\n",
    "    \n",
    "    while True:\n",
    "        continue_str = input(\"Would you like to insert another one [y/n]: \")\n",
    "        if continue_str.lower() == 'y':\n",
    "            break\n",
    "        elif continue_str.lower() == 'n':\n",
    "            break\n",
    "        else:\n",
    "            print(\"Invalid input. Please try again.\")\n",
    "    \n",
    "    if continue_str.lower() == 'n':\n",
    "        break\n",
    "\n",
    "my_dict = {}\n",
    "\n",
    "for i, num in enumerate(numbers):\n",
    "    value = (i, num * i)\n",
    "    \n",
    "    if num in my_dict:\n",
    "        my_dict[num].append(value)\n",
    "    else:\n",
    "        my_dict[num] = [value]\n",
    "\n",
    "print(my_dict)"
   ]
  },
  {
   "cell_type": "code",
   "execution_count": 4,
   "metadata": {},
   "outputs": [
    {
     "name": "stdout",
     "output_type": "stream",
     "text": [
      "[[2, 8, 10], [2, 10, 12], [3, 7, 10], [3, 5, 8], [7, 5, 12], [8, 10, 18]]\n"
     ]
    }
   ],
   "source": [
    "#Problem 2\n",
    "numbers = []\n",
    "\n",
    "while True:\n",
    "    try:\n",
    "        number = int(input(\"Insert number: \"))\n",
    "        numbers.append(number)\n",
    "        answer = input(\"Would you like to insert another one [y/n]: \")\n",
    "        if answer.lower() == 'n':\n",
    "            break\n",
    "        elif answer.lower() != 'y':\n",
    "            print(\"Invalid input. Please Try again.\")\n",
    "    except ValueError:\n",
    "        print(\"Invalid input. Please try again.\")\n",
    "\n",
    "results_list = []\n",
    "\n",
    "for i in range(len(numbers)):\n",
    "    for s in range(i+1, len(numbers)):\n",
    "        if (numbers[i] + numbers[s]) % 2 == 0:\n",
    "            newlist = [numbers[i], numbers[s], numbers[i] + numbers[s]]\n",
    "            results_list.append(newlist)\n",
    "def sortfunc(sublist):\n",
    "    return sublist[0]\n",
    "\n",
    "results_list.sort(key=sortfunc)\n",
    "\n",
    "print(results_list)"
   ]
  }
 ],
 "metadata": {
  "kernelspec": {
   "display_name": "test_env",
   "language": "python",
   "name": "python3"
  },
  "language_info": {
   "codemirror_mode": {
    "name": "ipython",
    "version": 3
   },
   "file_extension": ".py",
   "mimetype": "text/x-python",
   "name": "python",
   "nbconvert_exporter": "python",
   "pygments_lexer": "ipython3",
   "version": "3.8.0"
  },
  "orig_nbformat": 4,
  "vscode": {
   "interpreter": {
    "hash": "30eda9e68cf5b3239db157d268280b21de156a63948c2c3d656edef61e56cd04"
   }
  }
 },
 "nbformat": 4,
 "nbformat_minor": 2
}
