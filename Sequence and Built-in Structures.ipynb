{
 "cells": [
  {
   "cell_type": "code",
   "execution_count": 5,
   "metadata": {},
   "outputs": [
    {
     "name": "stdout",
     "output_type": "stream",
     "text": [
      "Multiples of 5: [5, 10, 15, 20, 25, 30, 35, 40, 45, 50, 55, 60, 65, 70, 75, 80]\n",
      "Count of multiples: 16\n",
      "Multiples of 10: [10, 20, 30, 40, 50, 60, 70, 80]\n",
      "Count of multiples: 8\n"
     ]
    }
   ],
   "source": [
    "#Problem 1\n",
    "num = int(input(\"Compute all multiples of 5 and 10 for (insert number): \"))\n",
    "\n",
    "by_5 = [i for i in range(5, num + 1, 5)]\n",
    "by_10 = [i for i in range(10, num + 1, 10)]\n",
    "count1 = len(by_5)\n",
    "count2 = len(by_10)\n",
    "\n",
    "print(f'Multiples of 5: {by_5}')\n",
    "print(f'Count of multiples: {count1}')\n",
    "print(f'Multiples of 10: {by_10}')    \n",
    "print(f'Count of multiples: {count2}')"
   ]
  },
  {
   "cell_type": "code",
   "execution_count": 10,
   "metadata": {},
   "outputs": [
    {
     "name": "stdout",
     "output_type": "stream",
     "text": [
      "\n",
      "Current list:  ['10', '20', 'a', '10', '20']\n",
      "Elements with duplicate:  ['10', '20']\n"
     ]
    }
   ],
   "source": [
    "#Problem 2\n",
    "inside = []\n",
    "\n",
    "new_elem = input(\"Insert element: \")\n",
    "inside.append(new_elem)\n",
    "\n",
    "while True:    \n",
    "    ask = input(\"Would you like to insert another element? [y/n]: \")\n",
    "    if ask == \"y\":\n",
    "        new_elem = input(\"Insert element: \")\n",
    "        inside.append(new_elem)\n",
    "    elif ask == \"n\":\n",
    "        break\n",
    "    else:\n",
    "        print(\"Invalid input. Please try again. \")\n",
    "\n",
    "duplicates = []\n",
    "seek = []\n",
    "\n",
    "for elem in inside:\n",
    "        if elem not in duplicates and inside.count(elem) > 1:\n",
    "            duplicates.append(elem)\n",
    "\n",
    "print(\"\\nCurrent list: \", inside)\n",
    "print(\"Elements with duplicate: \", duplicates)"
   ]
  },
  {
   "cell_type": "code",
   "execution_count": 11,
   "metadata": {},
   "outputs": [
    {
     "name": "stdout",
     "output_type": "stream",
     "text": [
      "Reyna is a Duelist from Mexico\n",
      "Killjoy is a Sentinel from Germany\n",
      "Brimstone is a Controller from USA\n"
     ]
    }
   ],
   "source": [
    "#Problem 3\n",
    "# names = ['Reyna', 'Killjoy', 'Brimstone']\n",
    "# roles = ['Duelist', 'Sentinel', 'Controller']\n",
    "# countries = ['Mexico', 'Germany', 'USA']\n",
    "\n",
    "# # for x in names, roles, countries:\n",
    "# # x = zip(names, roles, countries)\n",
    "# # print(tuple(x))\n",
    "# bind = list(zip(names, roles, countries))\n",
    "names = ['Reyna', 'Killjoy', 'Brimstone']\n",
    "roles = ['Duelist', 'Sentinel', 'Controller']\n",
    "countries = ['Mexico', 'Germany', 'USA']\n",
    "\n",
    "for names, roles, countries in zip(names, roles, countries):\n",
    "    print(f'{names} is a {roles} from {countries}')"
   ]
  }
 ],
 "metadata": {
  "kernelspec": {
   "display_name": "test_env",
   "language": "python",
   "name": "python3"
  },
  "language_info": {
   "codemirror_mode": {
    "name": "ipython",
    "version": 3
   },
   "file_extension": ".py",
   "mimetype": "text/x-python",
   "name": "python",
   "nbconvert_exporter": "python",
   "pygments_lexer": "ipython3",
   "version": "3.8.0"
  },
  "orig_nbformat": 4,
  "vscode": {
   "interpreter": {
    "hash": "30eda9e68cf5b3239db157d268280b21de156a63948c2c3d656edef61e56cd04"
   }
  }
 },
 "nbformat": 4,
 "nbformat_minor": 2
}
